{
  "nbformat": 4,
  "nbformat_minor": 0,
  "metadata": {
    "colab": {
      "name": "P.A - Curso Introductorio a Python | EDVAI.ipynb",
      "provenance": [],
      "collapsed_sections": [
        "qlqqZBwQd-v5"
      ],
      "include_colab_link": true
    },
    "kernelspec": {
      "name": "python3",
      "display_name": "Python 3"
    }
  },
  "cells": [
    {
      "cell_type": "markdown",
      "metadata": {
        "id": "view-in-github",
        "colab_type": "text"
      },
      "source": [
        "<a href=\"https://colab.research.google.com/github/fguiroy/fguiroy/blob/main/P_A_Curso_Introductorio_a_Python_%7C_EDVAI.ipynb\" target=\"_parent\"><img src=\"https://colab.research.google.com/assets/colab-badge.svg\" alt=\"Open In Colab\"/></a>"
      ]
    },
    {
      "cell_type": "markdown",
      "metadata": {
        "id": "Pk0TDpxtlKtR"
      },
      "source": [
        "\n",
        "<img src=\"https://i.ibb.co/PQjhtPK/Logo-Datos-Vivos.png\" width=\"400px\"> \n",
        "\n",
        "# Curso Introductorio de Python\n",
        "\n",
        "Publicado por [Escuela de Datos Vivos](https://escueladedatosvivos.ai/) (EDVAI) | [Página oficial del curso](https://escueladedatosvivos.ai/p/curso-gratuito-introduccion-a-python)\n",
        "\n",
        "Seguinos en las redes para mas contenido:\n",
        " [Instagram](https://www.instagram.com/escueladedatosvivos/) | [Linkedin](https://www.linkedin.com/company/escuela-de-datos-vivos/) | [Twitter](https://twitter.com/datos_vivos) \n",
        "\n",
        "Canal de [YouTube](https://www.youtube.com/c/Escueladedatosvivosai).\n",
        "\n",
        "<br>\n",
        "\n",
        "\n",
        "Profesor: [Pablo Casas](https://www.linkedin.com/in/pcasas/).\n",
        "\n",
        "---"
      ]
    },
    {
      "cell_type": "code",
      "metadata": {
        "id": "r3-Yp9JnVSHa"
      },
      "source": [
        ""
      ],
      "execution_count": null,
      "outputs": []
    },
    {
      "cell_type": "markdown",
      "metadata": {
        "id": "jNIlov4r9YTe"
      },
      "source": [
        "## 1) Desembarco inicial\n",
        "\n",
        "Este es un primer laboratorio de python\n",
        "\n"
      ]
    },
    {
      "cell_type": "code",
      "metadata": {
        "id": "wkktko0ai8aR",
        "colab": {
          "base_uri": "https://localhost:8080/"
        },
        "outputId": "26c3ff25-4ae2-40fe-b503-64511fa6de7c"
      },
      "source": [
        "a=1+1\n",
        "a"
      ],
      "execution_count": null,
      "outputs": [
        {
          "output_type": "execute_result",
          "data": {
            "text/plain": [
              "2"
            ]
          },
          "metadata": {
            "tags": []
          },
          "execution_count": 2
        }
      ]
    },
    {
      "cell_type": "code",
      "metadata": {
        "id": "tfdKY-k7j60G"
      },
      "source": [
        "b=\"hola mundo!\""
      ],
      "execution_count": null,
      "outputs": []
    },
    {
      "cell_type": "code",
      "metadata": {
        "id": "q0Szy-JQjVvX",
        "colab": {
          "base_uri": "https://localhost:8080/",
          "height": 35
        },
        "outputId": "faabf3ec-9dbc-41d2-98e6-26ef5f2b9c23"
      },
      "source": [
        "b"
      ],
      "execution_count": null,
      "outputs": [
        {
          "output_type": "execute_result",
          "data": {
            "application/vnd.google.colaboratory.intrinsic+json": {
              "type": "string"
            },
            "text/plain": [
              "'hola mundo!'"
            ]
          },
          "metadata": {
            "tags": []
          },
          "execution_count": 4
        }
      ]
    },
    {
      "cell_type": "code",
      "metadata": {
        "id": "Y2N0uU4PkIhe"
      },
      "source": [
        ""
      ],
      "execution_count": null,
      "outputs": []
    },
    {
      "cell_type": "markdown",
      "metadata": {
        "id": "PxZVJ1u1mrWd"
      },
      "source": [
        "## Segundo ejercicio!\n",
        "\n",
        "Explorar un pandas data frame y sus tipos de datos"
      ]
    },
    {
      "cell_type": "code",
      "metadata": {
        "id": "JXZ-ULORmtgE"
      },
      "source": [
        "# cargar librería Pandas"
      ],
      "execution_count": null,
      "outputs": []
    },
    {
      "cell_type": "code",
      "metadata": {
        "id": "lzxvVMXCpOJQ"
      },
      "source": [
        "import pandas as pd"
      ],
      "execution_count": null,
      "outputs": []
    },
    {
      "cell_type": "code",
      "metadata": {
        "id": "Nb30UPrqpn7Q"
      },
      "source": [
        "# crear data frame (no le presten atención por ahora...)\n",
        "d_star_wars=pd.DataFrame({'personaje': ['Luke Skywaker', 'C-3PO', 'Darth Vader'], 'altura':[172, 167, 202]})"
      ],
      "execution_count": null,
      "outputs": []
    },
    {
      "cell_type": "code",
      "metadata": {
        "id": "wa_yyKmFqIFD",
        "colab": {
          "base_uri": "https://localhost:8080/",
          "height": 143
        },
        "outputId": "9f33018d-166d-46da-8f88-10020ab090c4"
      },
      "source": [
        "d_star_wars"
      ],
      "execution_count": null,
      "outputs": [
        {
          "output_type": "execute_result",
          "data": {
            "text/html": [
              "<div>\n",
              "<style scoped>\n",
              "    .dataframe tbody tr th:only-of-type {\n",
              "        vertical-align: middle;\n",
              "    }\n",
              "\n",
              "    .dataframe tbody tr th {\n",
              "        vertical-align: top;\n",
              "    }\n",
              "\n",
              "    .dataframe thead th {\n",
              "        text-align: right;\n",
              "    }\n",
              "</style>\n",
              "<table border=\"1\" class=\"dataframe\">\n",
              "  <thead>\n",
              "    <tr style=\"text-align: right;\">\n",
              "      <th></th>\n",
              "      <th>personaje</th>\n",
              "      <th>altura</th>\n",
              "    </tr>\n",
              "  </thead>\n",
              "  <tbody>\n",
              "    <tr>\n",
              "      <th>0</th>\n",
              "      <td>Luke Skywaker</td>\n",
              "      <td>172</td>\n",
              "    </tr>\n",
              "    <tr>\n",
              "      <th>1</th>\n",
              "      <td>C-3PO</td>\n",
              "      <td>167</td>\n",
              "    </tr>\n",
              "    <tr>\n",
              "      <th>2</th>\n",
              "      <td>Darth Vader</td>\n",
              "      <td>202</td>\n",
              "    </tr>\n",
              "  </tbody>\n",
              "</table>\n",
              "</div>"
            ],
            "text/plain": [
              "       personaje  altura\n",
              "0  Luke Skywaker     172\n",
              "1          C-3PO     167\n",
              "2    Darth Vader     202"
            ]
          },
          "metadata": {
            "tags": []
          },
          "execution_count": 7
        }
      ]
    },
    {
      "cell_type": "code",
      "metadata": {
        "id": "zStFRFcuqJYq"
      },
      "source": [
        "# Tipos de datos de pandas data frame\n",
        "d_star_wars.dtypes"
      ],
      "execution_count": null,
      "outputs": []
    },
    {
      "cell_type": "code",
      "metadata": {
        "id": "gho7z3eSquB-"
      },
      "source": [
        "# Tipo de estructura de dato: la lista\n",
        "lista_personajes=['Luke Skywaker', 'C-3PO', 'Darth Vader']"
      ],
      "execution_count": null,
      "outputs": []
    },
    {
      "cell_type": "code",
      "metadata": {
        "id": "EAcxNOCkrepw"
      },
      "source": [
        "lista_altura=[172, 167, 202]"
      ],
      "execution_count": null,
      "outputs": []
    },
    {
      "cell_type": "code",
      "metadata": {
        "id": "ENGuD1nYrjyo"
      },
      "source": [
        "lista_altura"
      ],
      "execution_count": null,
      "outputs": []
    },
    {
      "cell_type": "code",
      "metadata": {
        "id": "LDachckBrk7V"
      },
      "source": [
        "# Crear un pandas dataframe basado en 2 listas\n",
        "d_sw=pd.DataFrame({'personaje': lista_personajes, \n",
        "                   'altura':lista_altura\n",
        "                  })"
      ],
      "execution_count": null,
      "outputs": []
    },
    {
      "cell_type": "code",
      "metadata": {
        "id": "pWgOR8wAsImK"
      },
      "source": [
        "d_sw"
      ],
      "execution_count": null,
      "outputs": []
    },
    {
      "cell_type": "code",
      "metadata": {
        "id": "b8zXzUKdsJK0"
      },
      "source": [
        ""
      ],
      "execution_count": null,
      "outputs": []
    },
    {
      "cell_type": "markdown",
      "metadata": {
        "id": "RcwFKkcCMrpz"
      },
      "source": [
        "## Tercer ejercicio!\n",
        "\n",
        "Filtrar datos en pandas. La lógica de la notación vectorial."
      ]
    },
    {
      "cell_type": "code",
      "metadata": {
        "id": "HRem86xYMtP-",
        "colab": {
          "base_uri": "https://localhost:8080/",
          "height": 143
        },
        "outputId": "54170887-bd03-49e2-8ca8-aae1f1b638f2"
      },
      "source": [
        "d_star_wars"
      ],
      "execution_count": null,
      "outputs": [
        {
          "output_type": "execute_result",
          "data": {
            "text/html": [
              "<div>\n",
              "<style scoped>\n",
              "    .dataframe tbody tr th:only-of-type {\n",
              "        vertical-align: middle;\n",
              "    }\n",
              "\n",
              "    .dataframe tbody tr th {\n",
              "        vertical-align: top;\n",
              "    }\n",
              "\n",
              "    .dataframe thead th {\n",
              "        text-align: right;\n",
              "    }\n",
              "</style>\n",
              "<table border=\"1\" class=\"dataframe\">\n",
              "  <thead>\n",
              "    <tr style=\"text-align: right;\">\n",
              "      <th></th>\n",
              "      <th>personaje</th>\n",
              "      <th>altura</th>\n",
              "    </tr>\n",
              "  </thead>\n",
              "  <tbody>\n",
              "    <tr>\n",
              "      <th>0</th>\n",
              "      <td>Luke Skywaker</td>\n",
              "      <td>172</td>\n",
              "    </tr>\n",
              "    <tr>\n",
              "      <th>1</th>\n",
              "      <td>C-3PO</td>\n",
              "      <td>167</td>\n",
              "    </tr>\n",
              "    <tr>\n",
              "      <th>2</th>\n",
              "      <td>Darth Vader</td>\n",
              "      <td>202</td>\n",
              "    </tr>\n",
              "  </tbody>\n",
              "</table>\n",
              "</div>"
            ],
            "text/plain": [
              "       personaje  altura\n",
              "0  Luke Skywaker     172\n",
              "1          C-3PO     167\n",
              "2    Darth Vader     202"
            ]
          },
          "metadata": {
            "tags": []
          },
          "execution_count": 8
        }
      ]
    },
    {
      "cell_type": "code",
      "metadata": {
        "id": "cPA7uoqjOQwx",
        "colab": {
          "base_uri": "https://localhost:8080/"
        },
        "outputId": "6407aa61-a3bf-44cc-ff92-998b26124548"
      },
      "source": [
        "d_star_wars['personaje'] # devuelve un pandas series"
      ],
      "execution_count": null,
      "outputs": [
        {
          "output_type": "execute_result",
          "data": {
            "text/plain": [
              "0    Luke Skywaker\n",
              "1            C-3PO\n",
              "2      Darth Vader\n",
              "Name: personaje, dtype: object"
            ]
          },
          "metadata": {
            "tags": []
          },
          "execution_count": 9
        }
      ]
    },
    {
      "cell_type": "code",
      "metadata": {
        "id": "BWK3M7zROv4T",
        "colab": {
          "base_uri": "https://localhost:8080/"
        },
        "outputId": "74db3b21-2a4e-45f1-aac9-082fef203513"
      },
      "source": [
        "# d_star_wars.iloc[indice de fila, indice de columna]\n",
        "d_star_wars.iloc[:, 0] # los dos puntos simboliza los slides"
      ],
      "execution_count": null,
      "outputs": [
        {
          "output_type": "execute_result",
          "data": {
            "text/plain": [
              "0    Luke Skywaker\n",
              "1            C-3PO\n",
              "2      Darth Vader\n",
              "Name: personaje, dtype: object"
            ]
          },
          "metadata": {
            "tags": []
          },
          "execution_count": 10
        }
      ]
    },
    {
      "cell_type": "code",
      "metadata": {
        "id": "akn758rfO6kk",
        "colab": {
          "base_uri": "https://localhost:8080/"
        },
        "outputId": "29d0209e-cfd9-4f7f-a135-90cfe6eca8d7"
      },
      "source": [
        "# devuelve todo el registro 0\n",
        "d_star_wars.iloc[0, :]"
      ],
      "execution_count": null,
      "outputs": [
        {
          "output_type": "execute_result",
          "data": {
            "text/plain": [
              "personaje    Luke Skywaker\n",
              "altura                 172\n",
              "Name: 0, dtype: object"
            ]
          },
          "metadata": {
            "tags": []
          },
          "execution_count": 11
        }
      ]
    },
    {
      "cell_type": "markdown",
      "metadata": {
        "id": "E4adyxUSQiPz"
      },
      "source": [
        "Esto los puede confundir..."
      ]
    },
    {
      "cell_type": "code",
      "metadata": {
        "id": "E0i-yeT1PjCj",
        "colab": {
          "base_uri": "https://localhost:8080/"
        },
        "outputId": "844e2ee5-0905-4c78-96d7-f1caf1bd711b"
      },
      "source": [
        "d_star_wars.loc[:, 'personaje'] # es equivalente a: d_star_wars.iloc[:, 0] "
      ],
      "execution_count": null,
      "outputs": [
        {
          "output_type": "execute_result",
          "data": {
            "text/plain": [
              "0    Luke Skywaker\n",
              "1            C-3PO\n",
              "2      Darth Vader\n",
              "Name: personaje, dtype: object"
            ]
          },
          "metadata": {
            "tags": []
          },
          "execution_count": 12
        }
      ]
    },
    {
      "cell_type": "code",
      "metadata": {
        "id": "RFkzb8BaQgAA"
      },
      "source": [
        "# d_star_wars.iloc[:, 'personaje']. # error porque el 2do parámetro no es un entero"
      ],
      "execution_count": null,
      "outputs": []
    },
    {
      "cell_type": "code",
      "metadata": {
        "id": "iljP9Os0RN5f",
        "colab": {
          "base_uri": "https://localhost:8080/"
        },
        "outputId": "fbfdd2a4-9eb5-447c-ebbf-30ad5d3eddbb"
      },
      "source": [
        "# índices para las columnas:\n",
        "d_star_wars.columns"
      ],
      "execution_count": null,
      "outputs": [
        {
          "output_type": "execute_result",
          "data": {
            "text/plain": [
              "Index(['personaje', 'altura'], dtype='object')"
            ]
          },
          "metadata": {
            "tags": []
          },
          "execution_count": 14
        }
      ]
    },
    {
      "cell_type": "code",
      "metadata": {
        "id": "tsmC8avDRZ-6",
        "colab": {
          "base_uri": "https://localhost:8080/"
        },
        "outputId": "7f343744-74f2-4fe2-ae62-5da637ee055a"
      },
      "source": [
        "# índices de los registros\n",
        "list(d_star_wars.index)"
      ],
      "execution_count": null,
      "outputs": [
        {
          "output_type": "execute_result",
          "data": {
            "text/plain": [
              "[0, 1, 2]"
            ]
          },
          "metadata": {
            "tags": []
          },
          "execution_count": 15
        }
      ]
    },
    {
      "cell_type": "code",
      "metadata": {
        "id": "g3VjF13aRfTj"
      },
      "source": [
        "d_star_wars.loc[0, :] # es equivalente: d_star_wars.iloc[0, :] (porque el índice 0 es la posición y el nombre)"
      ],
      "execution_count": null,
      "outputs": []
    },
    {
      "cell_type": "code",
      "metadata": {
        "id": "bW7eAqQGSNVp",
        "colab": {
          "base_uri": "https://localhost:8080/"
        },
        "outputId": "7938a6cd-f930-4b58-cd54-9a7b259ba454"
      },
      "source": [
        "# acceder a 1 elemento\n",
        "d_star_wars.loc[0, 'altura'] "
      ],
      "execution_count": null,
      "outputs": [
        {
          "output_type": "execute_result",
          "data": {
            "text/plain": [
              "172"
            ]
          },
          "metadata": {
            "tags": []
          },
          "execution_count": 16
        }
      ]
    },
    {
      "cell_type": "code",
      "metadata": {
        "id": "TuOWZ5-OSh8n",
        "colab": {
          "base_uri": "https://localhost:8080/"
        },
        "outputId": "3e7c0039-8784-4cc1-9b88-8337bd2703d8"
      },
      "source": [
        "d_star_wars.loc[1, 'altura'] "
      ],
      "execution_count": null,
      "outputs": [
        {
          "output_type": "execute_result",
          "data": {
            "text/plain": [
              "167"
            ]
          },
          "metadata": {
            "tags": []
          },
          "execution_count": 17
        }
      ]
    },
    {
      "cell_type": "code",
      "metadata": {
        "id": "wOKQFI_USzVu"
      },
      "source": [
        ""
      ],
      "execution_count": null,
      "outputs": []
    },
    {
      "cell_type": "code",
      "metadata": {
        "id": "EDnrxYEaZS7l"
      },
      "source": [
        ""
      ],
      "execution_count": null,
      "outputs": []
    },
    {
      "cell_type": "markdown",
      "metadata": {
        "id": "nyjrYjo7X48j"
      },
      "source": [
        "## Cuarto ejercicio\n",
        "\n",
        "Un poco mas de acceso y filtos de datos con condiciones"
      ]
    },
    {
      "cell_type": "markdown",
      "metadata": {
        "id": "Bf1zRCGpaZ1H"
      },
      "source": [
        "![](https://shanelynnwebsite-mid9n9g1q9y8tt.netdna-ssl.com/wp-content/uploads/2016/10/Pandas-selections-and-indexing-768x549.png)"
      ]
    },
    {
      "cell_type": "code",
      "metadata": {
        "id": "HujXQU6BZk73",
        "colab": {
          "base_uri": "https://localhost:8080/",
          "height": 143
        },
        "outputId": "41882b86-127a-44d8-a3f5-d3b0cfa63bd7"
      },
      "source": [
        "d_star_wars"
      ],
      "execution_count": null,
      "outputs": [
        {
          "output_type": "execute_result",
          "data": {
            "text/html": [
              "<div>\n",
              "<style scoped>\n",
              "    .dataframe tbody tr th:only-of-type {\n",
              "        vertical-align: middle;\n",
              "    }\n",
              "\n",
              "    .dataframe tbody tr th {\n",
              "        vertical-align: top;\n",
              "    }\n",
              "\n",
              "    .dataframe thead th {\n",
              "        text-align: right;\n",
              "    }\n",
              "</style>\n",
              "<table border=\"1\" class=\"dataframe\">\n",
              "  <thead>\n",
              "    <tr style=\"text-align: right;\">\n",
              "      <th></th>\n",
              "      <th>personaje</th>\n",
              "      <th>altura</th>\n",
              "    </tr>\n",
              "  </thead>\n",
              "  <tbody>\n",
              "    <tr>\n",
              "      <th>0</th>\n",
              "      <td>Luke Skywaker</td>\n",
              "      <td>172</td>\n",
              "    </tr>\n",
              "    <tr>\n",
              "      <th>1</th>\n",
              "      <td>C-3PO</td>\n",
              "      <td>167</td>\n",
              "    </tr>\n",
              "    <tr>\n",
              "      <th>2</th>\n",
              "      <td>Darth Vader</td>\n",
              "      <td>202</td>\n",
              "    </tr>\n",
              "  </tbody>\n",
              "</table>\n",
              "</div>"
            ],
            "text/plain": [
              "       personaje  altura\n",
              "0  Luke Skywaker     172\n",
              "1          C-3PO     167\n",
              "2    Darth Vader     202"
            ]
          },
          "metadata": {
            "tags": []
          },
          "execution_count": 18
        }
      ]
    },
    {
      "cell_type": "code",
      "metadata": {
        "id": "WTPWCYN-anmZ",
        "colab": {
          "base_uri": "https://localhost:8080/"
        },
        "outputId": "5b9bf490-da92-431b-f0e7-32da2acf639f"
      },
      "source": [
        "d_star_wars.iloc[0:2, 0]"
      ],
      "execution_count": null,
      "outputs": [
        {
          "output_type": "execute_result",
          "data": {
            "text/plain": [
              "0    Luke Skywaker\n",
              "1            C-3PO\n",
              "Name: personaje, dtype: object"
            ]
          },
          "metadata": {
            "tags": []
          },
          "execution_count": 19
        }
      ]
    },
    {
      "cell_type": "code",
      "metadata": {
        "id": "093gE5aZbcVe",
        "colab": {
          "base_uri": "https://localhost:8080/",
          "height": 143
        },
        "outputId": "cb7b190e-cda6-4d68-eb5b-41ba3f7d27ca"
      },
      "source": [
        "# nos devuelve todo\n",
        "d_star_wars.iloc[0:3, 0:2]"
      ],
      "execution_count": null,
      "outputs": [
        {
          "output_type": "execute_result",
          "data": {
            "text/html": [
              "<div>\n",
              "<style scoped>\n",
              "    .dataframe tbody tr th:only-of-type {\n",
              "        vertical-align: middle;\n",
              "    }\n",
              "\n",
              "    .dataframe tbody tr th {\n",
              "        vertical-align: top;\n",
              "    }\n",
              "\n",
              "    .dataframe thead th {\n",
              "        text-align: right;\n",
              "    }\n",
              "</style>\n",
              "<table border=\"1\" class=\"dataframe\">\n",
              "  <thead>\n",
              "    <tr style=\"text-align: right;\">\n",
              "      <th></th>\n",
              "      <th>personaje</th>\n",
              "      <th>altura</th>\n",
              "    </tr>\n",
              "  </thead>\n",
              "  <tbody>\n",
              "    <tr>\n",
              "      <th>0</th>\n",
              "      <td>Luke Skywaker</td>\n",
              "      <td>172</td>\n",
              "    </tr>\n",
              "    <tr>\n",
              "      <th>1</th>\n",
              "      <td>C-3PO</td>\n",
              "      <td>167</td>\n",
              "    </tr>\n",
              "    <tr>\n",
              "      <th>2</th>\n",
              "      <td>Darth Vader</td>\n",
              "      <td>202</td>\n",
              "    </tr>\n",
              "  </tbody>\n",
              "</table>\n",
              "</div>"
            ],
            "text/plain": [
              "       personaje  altura\n",
              "0  Luke Skywaker     172\n",
              "1          C-3PO     167\n",
              "2    Darth Vader     202"
            ]
          },
          "metadata": {
            "tags": []
          },
          "execution_count": 20
        }
      ]
    },
    {
      "cell_type": "markdown",
      "metadata": {
        "id": "qlqqZBwQd-v5"
      },
      "source": [
        "### Remplazar valores"
      ]
    },
    {
      "cell_type": "code",
      "metadata": {
        "id": "ofZPOwGmbpTE",
        "colab": {
          "base_uri": "https://localhost:8080/"
        },
        "outputId": "68cf6c11-8400-4449-ee4f-0a4d192b23b2"
      },
      "source": [
        "# otra manera de filtrar vectorialmente\n",
        "d_star_wars['personaje']=='Darth Vader'"
      ],
      "execution_count": null,
      "outputs": [
        {
          "output_type": "execute_result",
          "data": {
            "text/plain": [
              "0    False\n",
              "1    False\n",
              "2     True\n",
              "Name: personaje, dtype: bool"
            ]
          },
          "metadata": {
            "tags": []
          },
          "execution_count": 21
        }
      ]
    },
    {
      "cell_type": "code",
      "metadata": {
        "id": "gTYNmYf8cK7j"
      },
      "source": [
        "# ¿Cómo le cambiamos la altura a Darth Vader?\n",
        "v_flag=d_star_wars['personaje']=='Darth Vader'"
      ],
      "execution_count": null,
      "outputs": []
    },
    {
      "cell_type": "code",
      "metadata": {
        "id": "TZuZ7hZFlXS7",
        "colab": {
          "base_uri": "https://localhost:8080/"
        },
        "outputId": "9a56f1cd-9748-4f4d-f5fd-80ac36f26a9a"
      },
      "source": [
        "# ¿Como remplazar un valor basado en una condición?\n",
        "d_star_wars.loc[v_flag, 'altura'] "
      ],
      "execution_count": null,
      "outputs": [
        {
          "output_type": "execute_result",
          "data": {
            "text/plain": [
              "2    202\n",
              "Name: altura, dtype: int64"
            ]
          },
          "metadata": {
            "tags": []
          },
          "execution_count": 23
        }
      ]
    },
    {
      "cell_type": "code",
      "metadata": {
        "id": "2z8oLlBXmXCz"
      },
      "source": [
        "d_star_wars.loc[v_flag, 'altura'] = 185"
      ],
      "execution_count": null,
      "outputs": []
    },
    {
      "cell_type": "code",
      "metadata": {
        "id": "JZC8PwcRnrZW",
        "colab": {
          "base_uri": "https://localhost:8080/",
          "height": 143
        },
        "outputId": "1e901915-c534-46d9-d63a-2b9df4bc9d2d"
      },
      "source": [
        "# chequeo\n",
        "d_star_wars"
      ],
      "execution_count": null,
      "outputs": [
        {
          "output_type": "execute_result",
          "data": {
            "text/html": [
              "<div>\n",
              "<style scoped>\n",
              "    .dataframe tbody tr th:only-of-type {\n",
              "        vertical-align: middle;\n",
              "    }\n",
              "\n",
              "    .dataframe tbody tr th {\n",
              "        vertical-align: top;\n",
              "    }\n",
              "\n",
              "    .dataframe thead th {\n",
              "        text-align: right;\n",
              "    }\n",
              "</style>\n",
              "<table border=\"1\" class=\"dataframe\">\n",
              "  <thead>\n",
              "    <tr style=\"text-align: right;\">\n",
              "      <th></th>\n",
              "      <th>personaje</th>\n",
              "      <th>altura</th>\n",
              "    </tr>\n",
              "  </thead>\n",
              "  <tbody>\n",
              "    <tr>\n",
              "      <th>0</th>\n",
              "      <td>Luke Skywaker</td>\n",
              "      <td>172</td>\n",
              "    </tr>\n",
              "    <tr>\n",
              "      <th>1</th>\n",
              "      <td>C-3PO</td>\n",
              "      <td>167</td>\n",
              "    </tr>\n",
              "    <tr>\n",
              "      <th>2</th>\n",
              "      <td>Darth Vader</td>\n",
              "      <td>185</td>\n",
              "    </tr>\n",
              "  </tbody>\n",
              "</table>\n",
              "</div>"
            ],
            "text/plain": [
              "       personaje  altura\n",
              "0  Luke Skywaker     172\n",
              "1          C-3PO     167\n",
              "2    Darth Vader     185"
            ]
          },
          "metadata": {
            "tags": []
          },
          "execution_count": 25
        }
      ]
    },
    {
      "cell_type": "code",
      "metadata": {
        "id": "GD2YJFvUoDgS"
      },
      "source": [
        "# haciendo todo en la misma linea\n",
        "d_star_wars.loc[ d_star_wars['personaje']=='Luke Skywaker', 'altura']=200"
      ],
      "execution_count": null,
      "outputs": []
    },
    {
      "cell_type": "code",
      "metadata": {
        "id": "iJNnY-fWo_GW",
        "colab": {
          "base_uri": "https://localhost:8080/",
          "height": 143
        },
        "outputId": "fe28b028-de3a-485d-d0e6-1236d9c3f295"
      },
      "source": [
        "d_star_wars"
      ],
      "execution_count": null,
      "outputs": [
        {
          "output_type": "execute_result",
          "data": {
            "text/html": [
              "<div>\n",
              "<style scoped>\n",
              "    .dataframe tbody tr th:only-of-type {\n",
              "        vertical-align: middle;\n",
              "    }\n",
              "\n",
              "    .dataframe tbody tr th {\n",
              "        vertical-align: top;\n",
              "    }\n",
              "\n",
              "    .dataframe thead th {\n",
              "        text-align: right;\n",
              "    }\n",
              "</style>\n",
              "<table border=\"1\" class=\"dataframe\">\n",
              "  <thead>\n",
              "    <tr style=\"text-align: right;\">\n",
              "      <th></th>\n",
              "      <th>personaje</th>\n",
              "      <th>altura</th>\n",
              "    </tr>\n",
              "  </thead>\n",
              "  <tbody>\n",
              "    <tr>\n",
              "      <th>0</th>\n",
              "      <td>Luke Skywaker</td>\n",
              "      <td>200</td>\n",
              "    </tr>\n",
              "    <tr>\n",
              "      <th>1</th>\n",
              "      <td>C-3PO</td>\n",
              "      <td>167</td>\n",
              "    </tr>\n",
              "    <tr>\n",
              "      <th>2</th>\n",
              "      <td>Darth Vader</td>\n",
              "      <td>185</td>\n",
              "    </tr>\n",
              "  </tbody>\n",
              "</table>\n",
              "</div>"
            ],
            "text/plain": [
              "       personaje  altura\n",
              "0  Luke Skywaker     200\n",
              "1          C-3PO     167\n",
              "2    Darth Vader     185"
            ]
          },
          "metadata": {
            "tags": []
          },
          "execution_count": 27
        }
      ]
    },
    {
      "cell_type": "code",
      "metadata": {
        "id": "ZXM4RT9PpWpM"
      },
      "source": [
        ""
      ],
      "execution_count": null,
      "outputs": []
    },
    {
      "cell_type": "markdown",
      "metadata": {
        "id": "PQJCNkjCiRNm"
      },
      "source": [
        "## 2) Dominando los datos \n",
        "\n",
        "Carga de archivos, exploración de un data frame, uso de librerías externas"
      ]
    },
    {
      "cell_type": "code",
      "metadata": {
        "id": "ETHwlaNKS60T",
        "colab": {
          "base_uri": "https://localhost:8080/"
        },
        "outputId": "f6e8930f-1787-4b4d-f4d6-a1074f659f24"
      },
      "source": [
        "from google.colab import drive\n",
        "drive.mount('/content/drive')"
      ],
      "execution_count": null,
      "outputs": [
        {
          "output_type": "stream",
          "text": [
            "Mounted at /content/drive\n"
          ],
          "name": "stdout"
        }
      ]
    },
    {
      "cell_type": "markdown",
      "metadata": {
        "id": "EUMCc-1vtKCn"
      },
      "source": [
        "¿Cómo leer datos de google drive en google colab?"
      ]
    },
    {
      "cell_type": "code",
      "metadata": {
        "id": "9hy9yIuTjHQK"
      },
      "source": [
        "# Lectura de archivos\n",
        "import pandas as pd\n",
        "\n",
        "\n",
        "d_star_wars=pd.read_csv(\"/content/drive/MyDrive/Cursos/Intro Python/data/starwars.csv\")"
      ],
      "execution_count": null,
      "outputs": []
    },
    {
      "cell_type": "code",
      "metadata": {
        "id": "VHJBwGvFpwhh",
        "colab": {
          "base_uri": "https://localhost:8080/",
          "height": 623
        },
        "outputId": "f877706f-bf37-42bd-a244-3549b7c72d5c"
      },
      "source": [
        "# Exploración con DataTable colab\n",
        "from google.colab.data_table import DataTable\n",
        "\n",
        "DataTable(d_star_wars)\n"
      ],
      "execution_count": null,
      "outputs": [
        {
          "output_type": "execute_result",
          "data": {
            "application/vnd.google.colaboratory.module+javascript": "\n      import \"https://ssl.gstatic.com/colaboratory/data_table/a6224c040fa35dcf/data_table.js\";\n\n      window.createDataTable({\n        data: [[{\n            'v': 0,\n            'f': \"0\",\n        },\n{\n            'v': 1,\n            'f': \"1\",\n        },\n\"Luke Skywalker\",\n{\n            'v': 172.0,\n            'f': \"172.0\",\n        },\n{\n            'v': 77.0,\n            'f': \"77.0\",\n        },\n\"blond\",\n\"fair\",\n\"blue\",\n{\n            'v': 19.0,\n            'f': \"19.0\",\n        },\n\"male\",\n\"Tatooine\",\n\"Human\"],\n [{\n            'v': 1,\n            'f': \"1\",\n        },\n{\n            'v': 2,\n            'f': \"2\",\n        },\n\"C-3PO\",\n{\n            'v': 167.0,\n            'f': \"167.0\",\n        },\n{\n            'v': 75.0,\n            'f': \"75.0\",\n        },\nNaN,\n\"gold\",\n\"yellow\",\n{\n            'v': 112.0,\n            'f': \"112.0\",\n        },\nNaN,\n\"Tatooine\",\n\"Droid\"],\n [{\n            'v': 2,\n            'f': \"2\",\n        },\n{\n            'v': 3,\n            'f': \"3\",\n        },\n\"R2-D2\",\n{\n            'v': 96.0,\n            'f': \"96.0\",\n        },\n{\n            'v': 32.0,\n            'f': \"32.0\",\n        },\nNaN,\n\"white, blue\",\n\"red\",\n{\n            'v': 33.0,\n            'f': \"33.0\",\n        },\nNaN,\n\"Naboo\",\n\"Droid\"],\n [{\n            'v': 3,\n            'f': \"3\",\n        },\n{\n            'v': 4,\n            'f': \"4\",\n        },\n\"Darth Vader\",\n{\n            'v': 202.0,\n            'f': \"202.0\",\n        },\n{\n            'v': 136.0,\n            'f': \"136.0\",\n        },\n\"none\",\n\"white\",\n\"yellow\",\n{\n            'v': 41.9,\n            'f': \"41.9\",\n        },\n\"male\",\n\"Tatooine\",\n\"Human\"],\n [{\n            'v': 4,\n            'f': \"4\",\n        },\n{\n            'v': 5,\n            'f': \"5\",\n        },\n\"Leia Organa\",\n{\n            'v': 150.0,\n            'f': \"150.0\",\n        },\n{\n            'v': 49.0,\n            'f': \"49.0\",\n        },\n\"brown\",\n\"light\",\n\"brown\",\n{\n            'v': 19.0,\n            'f': \"19.0\",\n        },\n\"female\",\n\"Alderaan\",\n\"Human\"],\n [{\n            'v': 5,\n            'f': \"5\",\n        },\n{\n            'v': 6,\n            'f': \"6\",\n        },\n\"Owen Lars\",\n{\n            'v': 178.0,\n            'f': \"178.0\",\n        },\n{\n            'v': 120.0,\n            'f': \"120.0\",\n        },\n\"brown, grey\",\n\"light\",\n\"blue\",\n{\n            'v': 52.0,\n            'f': \"52.0\",\n        },\n\"male\",\n\"Tatooine\",\n\"Human\"],\n [{\n            'v': 6,\n            'f': \"6\",\n        },\n{\n            'v': 7,\n            'f': \"7\",\n        },\n\"Beru Whitesun lars\",\n{\n            'v': 165.0,\n            'f': \"165.0\",\n        },\n{\n            'v': 75.0,\n            'f': \"75.0\",\n        },\n\"brown\",\n\"light\",\n\"blue\",\n{\n            'v': 47.0,\n            'f': \"47.0\",\n        },\n\"female\",\n\"Tatooine\",\n\"Human\"],\n [{\n            'v': 7,\n            'f': \"7\",\n        },\n{\n            'v': 8,\n            'f': \"8\",\n        },\n\"R5-D4\",\n{\n            'v': 97.0,\n            'f': \"97.0\",\n        },\n{\n            'v': 32.0,\n            'f': \"32.0\",\n        },\nNaN,\n\"white, red\",\n\"red\",\n{\n            'v': NaN,\n            'f': \"NaN\",\n        },\nNaN,\n\"Tatooine\",\n\"Droid\"],\n [{\n            'v': 8,\n            'f': \"8\",\n        },\n{\n            'v': 9,\n            'f': \"9\",\n        },\n\"Biggs Darklighter\",\n{\n            'v': 183.0,\n            'f': \"183.0\",\n        },\n{\n            'v': 84.0,\n            'f': \"84.0\",\n        },\n\"black\",\n\"light\",\n\"brown\",\n{\n            'v': 24.0,\n            'f': \"24.0\",\n        },\n\"male\",\n\"Tatooine\",\n\"Human\"],\n [{\n            'v': 9,\n            'f': \"9\",\n        },\n{\n            'v': 10,\n            'f': \"10\",\n        },\n\"Obi-Wan Kenobi\",\n{\n            'v': 182.0,\n            'f': \"182.0\",\n        },\n{\n            'v': 77.0,\n            'f': \"77.0\",\n        },\n\"auburn, white\",\n\"fair\",\n\"blue-gray\",\n{\n            'v': 57.0,\n            'f': \"57.0\",\n        },\n\"male\",\n\"Stewjon\",\n\"Human\"],\n [{\n            'v': 10,\n            'f': \"10\",\n        },\n{\n            'v': 11,\n            'f': \"11\",\n        },\n\"Anakin Skywalker\",\n{\n            'v': 188.0,\n            'f': \"188.0\",\n        },\n{\n            'v': 84.0,\n            'f': \"84.0\",\n        },\n\"blond\",\n\"fair\",\n\"blue\",\n{\n            'v': 41.9,\n            'f': \"41.9\",\n        },\n\"male\",\n\"Tatooine\",\n\"Human\"],\n [{\n            'v': 11,\n            'f': \"11\",\n        },\n{\n            'v': 12,\n            'f': \"12\",\n        },\n\"Wilhuff Tarkin\",\n{\n            'v': 180.0,\n            'f': \"180.0\",\n        },\n{\n            'v': NaN,\n            'f': \"NaN\",\n        },\n\"auburn, grey\",\n\"fair\",\n\"blue\",\n{\n            'v': 64.0,\n            'f': \"64.0\",\n        },\n\"male\",\n\"Eriadu\",\n\"Human\"],\n [{\n            'v': 12,\n            'f': \"12\",\n        },\n{\n            'v': 13,\n            'f': \"13\",\n        },\n\"Chewbacca\",\n{\n            'v': 228.0,\n            'f': \"228.0\",\n        },\n{\n            'v': 112.0,\n            'f': \"112.0\",\n        },\n\"brown\",\n\"unknown\",\n\"blue\",\n{\n            'v': 200.0,\n            'f': \"200.0\",\n        },\n\"male\",\n\"Kashyyyk\",\n\"Wookiee\"],\n [{\n            'v': 13,\n            'f': \"13\",\n        },\n{\n            'v': 14,\n            'f': \"14\",\n        },\n\"Han Solo\",\n{\n            'v': 180.0,\n            'f': \"180.0\",\n        },\n{\n            'v': 80.0,\n            'f': \"80.0\",\n        },\n\"brown\",\n\"fair\",\n\"brown\",\n{\n            'v': 29.0,\n            'f': \"29.0\",\n        },\n\"male\",\n\"Corellia\",\n\"Human\"],\n [{\n            'v': 14,\n            'f': \"14\",\n        },\n{\n            'v': 15,\n            'f': \"15\",\n        },\n\"Greedo\",\n{\n            'v': 173.0,\n            'f': \"173.0\",\n        },\n{\n            'v': 74.0,\n            'f': \"74.0\",\n        },\nNaN,\n\"green\",\n\"black\",\n{\n            'v': 44.0,\n            'f': \"44.0\",\n        },\n\"male\",\n\"Rodia\",\n\"Rodian\"],\n [{\n            'v': 15,\n            'f': \"15\",\n        },\n{\n            'v': 16,\n            'f': \"16\",\n        },\n\"Jabba Desilijic Tiure\",\n{\n            'v': 175.0,\n            'f': \"175.0\",\n        },\n{\n            'v': 1358.0,\n            'f': \"1358.0\",\n        },\nNaN,\n\"green-tan, brown\",\n\"orange\",\n{\n            'v': 600.0,\n            'f': \"600.0\",\n        },\n\"hermaphrodite\",\n\"Nal Hutta\",\n\"Hutt\"],\n [{\n            'v': 16,\n            'f': \"16\",\n        },\n{\n            'v': 17,\n            'f': \"17\",\n        },\n\"Wedge Antilles\",\n{\n            'v': 170.0,\n            'f': \"170.0\",\n        },\n{\n            'v': 77.0,\n            'f': \"77.0\",\n        },\n\"brown\",\n\"fair\",\n\"hazel\",\n{\n            'v': 21.0,\n            'f': \"21.0\",\n        },\n\"male\",\n\"Corellia\",\n\"Human\"],\n [{\n            'v': 17,\n            'f': \"17\",\n        },\n{\n            'v': 18,\n            'f': \"18\",\n        },\n\"Jek Tono Porkins\",\n{\n            'v': 180.0,\n            'f': \"180.0\",\n        },\n{\n            'v': 110.0,\n            'f': \"110.0\",\n        },\n\"brown\",\n\"fair\",\n\"blue\",\n{\n            'v': NaN,\n            'f': \"NaN\",\n        },\n\"male\",\n\"Bestine IV\",\n\"Human\"],\n [{\n            'v': 18,\n            'f': \"18\",\n        },\n{\n            'v': 19,\n            'f': \"19\",\n        },\n\"Yoda\",\n{\n            'v': 66.0,\n            'f': \"66.0\",\n        },\n{\n            'v': 17.0,\n            'f': \"17.0\",\n        },\n\"white\",\n\"green\",\n\"brown\",\n{\n            'v': 896.0,\n            'f': \"896.0\",\n        },\n\"male\",\nNaN,\n\"Yoda's species\"],\n [{\n            'v': 19,\n            'f': \"19\",\n        },\n{\n            'v': 20,\n            'f': \"20\",\n        },\n\"Palpatine\",\n{\n            'v': 170.0,\n            'f': \"170.0\",\n        },\n{\n            'v': 75.0,\n            'f': \"75.0\",\n        },\n\"grey\",\n\"pale\",\n\"yellow\",\n{\n            'v': 82.0,\n            'f': \"82.0\",\n        },\n\"male\",\n\"Naboo\",\n\"Human\"],\n [{\n            'v': 20,\n            'f': \"20\",\n        },\n{\n            'v': 21,\n            'f': \"21\",\n        },\n\"Boba Fett\",\n{\n            'v': 183.0,\n            'f': \"183.0\",\n        },\n{\n            'v': 78.2,\n            'f': \"78.2\",\n        },\n\"black\",\n\"fair\",\n\"brown\",\n{\n            'v': 31.5,\n            'f': \"31.5\",\n        },\n\"male\",\n\"Kamino\",\n\"Human\"],\n [{\n            'v': 21,\n            'f': \"21\",\n        },\n{\n            'v': 22,\n            'f': \"22\",\n        },\n\"IG-88\",\n{\n            'v': 200.0,\n            'f': \"200.0\",\n        },\n{\n            'v': 140.0,\n            'f': \"140.0\",\n        },\n\"none\",\n\"metal\",\n\"red\",\n{\n            'v': 15.0,\n            'f': \"15.0\",\n        },\n\"none\",\nNaN,\n\"Droid\"],\n [{\n            'v': 22,\n            'f': \"22\",\n        },\n{\n            'v': 23,\n            'f': \"23\",\n        },\n\"Bossk\",\n{\n            'v': 190.0,\n            'f': \"190.0\",\n        },\n{\n            'v': 113.0,\n            'f': \"113.0\",\n        },\n\"none\",\n\"green\",\n\"red\",\n{\n            'v': 53.0,\n            'f': \"53.0\",\n        },\n\"male\",\n\"Trandosha\",\n\"Trandoshan\"],\n [{\n            'v': 23,\n            'f': \"23\",\n        },\n{\n            'v': 24,\n            'f': \"24\",\n        },\n\"Lando Calrissian\",\n{\n            'v': 177.0,\n            'f': \"177.0\",\n        },\n{\n            'v': 79.0,\n            'f': \"79.0\",\n        },\n\"black\",\n\"dark\",\n\"brown\",\n{\n            'v': 31.0,\n            'f': \"31.0\",\n        },\n\"male\",\n\"Socorro\",\n\"Human\"],\n [{\n            'v': 24,\n            'f': \"24\",\n        },\n{\n            'v': 25,\n            'f': \"25\",\n        },\n\"Lobot\",\n{\n            'v': 175.0,\n            'f': \"175.0\",\n        },\n{\n            'v': 79.0,\n            'f': \"79.0\",\n        },\n\"none\",\n\"light\",\n\"blue\",\n{\n            'v': 37.0,\n            'f': \"37.0\",\n        },\n\"male\",\n\"Bespin\",\n\"Human\"],\n [{\n            'v': 25,\n            'f': \"25\",\n        },\n{\n            'v': 26,\n            'f': \"26\",\n        },\n\"Ackbar\",\n{\n            'v': 180.0,\n            'f': \"180.0\",\n        },\n{\n            'v': 83.0,\n            'f': \"83.0\",\n        },\n\"none\",\n\"brown mottle\",\n\"orange\",\n{\n            'v': 41.0,\n            'f': \"41.0\",\n        },\n\"male\",\n\"Mon Cala\",\n\"Mon Calamari\"],\n [{\n            'v': 26,\n            'f': \"26\",\n        },\n{\n            'v': 27,\n            'f': \"27\",\n        },\n\"Mon Mothma\",\n{\n            'v': 150.0,\n            'f': \"150.0\",\n        },\n{\n            'v': NaN,\n            'f': \"NaN\",\n        },\n\"auburn\",\n\"fair\",\n\"blue\",\n{\n            'v': 48.0,\n            'f': \"48.0\",\n        },\n\"female\",\n\"Chandrila\",\n\"Human\"],\n [{\n            'v': 27,\n            'f': \"27\",\n        },\n{\n            'v': 28,\n            'f': \"28\",\n        },\n\"Arvel Crynyd\",\n{\n            'v': NaN,\n            'f': \"NaN\",\n        },\n{\n            'v': NaN,\n            'f': \"NaN\",\n        },\n\"brown\",\n\"fair\",\n\"brown\",\n{\n            'v': NaN,\n            'f': \"NaN\",\n        },\n\"male\",\nNaN,\n\"Human\"],\n [{\n            'v': 28,\n            'f': \"28\",\n        },\n{\n            'v': 29,\n            'f': \"29\",\n        },\n\"Wicket Systri Warrick\",\n{\n            'v': 88.0,\n            'f': \"88.0\",\n        },\n{\n            'v': 20.0,\n            'f': \"20.0\",\n        },\n\"brown\",\n\"brown\",\n\"brown\",\n{\n            'v': 8.0,\n            'f': \"8.0\",\n        },\n\"male\",\n\"Endor\",\n\"Ewok\"],\n [{\n            'v': 29,\n            'f': \"29\",\n        },\n{\n            'v': 30,\n            'f': \"30\",\n        },\n\"Nien Nunb\",\n{\n            'v': 160.0,\n            'f': \"160.0\",\n        },\n{\n            'v': 68.0,\n            'f': \"68.0\",\n        },\n\"none\",\n\"grey\",\n\"black\",\n{\n            'v': NaN,\n            'f': \"NaN\",\n        },\n\"male\",\n\"Sullust\",\n\"Sullustan\"],\n [{\n            'v': 30,\n            'f': \"30\",\n        },\n{\n            'v': 31,\n            'f': \"31\",\n        },\n\"Qui-Gon Jinn\",\n{\n            'v': 193.0,\n            'f': \"193.0\",\n        },\n{\n            'v': 89.0,\n            'f': \"89.0\",\n        },\n\"brown\",\n\"fair\",\n\"blue\",\n{\n            'v': 92.0,\n            'f': \"92.0\",\n        },\n\"male\",\nNaN,\n\"Human\"],\n [{\n            'v': 31,\n            'f': \"31\",\n        },\n{\n            'v': 32,\n            'f': \"32\",\n        },\n\"Nute Gunray\",\n{\n            'v': 191.0,\n            'f': \"191.0\",\n        },\n{\n            'v': 90.0,\n            'f': \"90.0\",\n        },\n\"none\",\n\"mottled green\",\n\"red\",\n{\n            'v': NaN,\n            'f': \"NaN\",\n        },\n\"male\",\n\"Cato Neimoidia\",\n\"Neimodian\"],\n [{\n            'v': 32,\n            'f': \"32\",\n        },\n{\n            'v': 33,\n            'f': \"33\",\n        },\n\"Finis Valorum\",\n{\n            'v': 170.0,\n            'f': \"170.0\",\n        },\n{\n            'v': NaN,\n            'f': \"NaN\",\n        },\n\"blond\",\n\"fair\",\n\"blue\",\n{\n            'v': 91.0,\n            'f': \"91.0\",\n        },\n\"male\",\n\"Coruscant\",\n\"Human\"],\n [{\n            'v': 33,\n            'f': \"33\",\n        },\n{\n            'v': 34,\n            'f': \"34\",\n        },\n\"Jar Jar Binks\",\n{\n            'v': 196.0,\n            'f': \"196.0\",\n        },\n{\n            'v': 66.0,\n            'f': \"66.0\",\n        },\n\"none\",\n\"orange\",\n\"orange\",\n{\n            'v': 52.0,\n            'f': \"52.0\",\n        },\n\"male\",\n\"Naboo\",\n\"Gungan\"],\n [{\n            'v': 34,\n            'f': \"34\",\n        },\n{\n            'v': 35,\n            'f': \"35\",\n        },\n\"Roos Tarpals\",\n{\n            'v': 224.0,\n            'f': \"224.0\",\n        },\n{\n            'v': 82.0,\n            'f': \"82.0\",\n        },\n\"none\",\n\"grey\",\n\"orange\",\n{\n            'v': NaN,\n            'f': \"NaN\",\n        },\n\"male\",\n\"Naboo\",\n\"Gungan\"],\n [{\n            'v': 35,\n            'f': \"35\",\n        },\n{\n            'v': 36,\n            'f': \"36\",\n        },\n\"Rugor Nass\",\n{\n            'v': 206.0,\n            'f': \"206.0\",\n        },\n{\n            'v': NaN,\n            'f': \"NaN\",\n        },\n\"none\",\n\"green\",\n\"orange\",\n{\n            'v': NaN,\n            'f': \"NaN\",\n        },\n\"male\",\n\"Naboo\",\n\"Gungan\"],\n [{\n            'v': 36,\n            'f': \"36\",\n        },\n{\n            'v': 37,\n            'f': \"37\",\n        },\n\"Ric Oli\\u00e9\",\n{\n            'v': 183.0,\n            'f': \"183.0\",\n        },\n{\n            'v': NaN,\n            'f': \"NaN\",\n        },\n\"brown\",\n\"fair\",\n\"blue\",\n{\n            'v': NaN,\n            'f': \"NaN\",\n        },\n\"male\",\n\"Naboo\",\nNaN],\n [{\n            'v': 37,\n            'f': \"37\",\n        },\n{\n            'v': 38,\n            'f': \"38\",\n        },\n\"Watto\",\n{\n            'v': 137.0,\n            'f': \"137.0\",\n        },\n{\n            'v': NaN,\n            'f': \"NaN\",\n        },\n\"black\",\n\"blue, grey\",\n\"yellow\",\n{\n            'v': NaN,\n            'f': \"NaN\",\n        },\n\"male\",\n\"Toydaria\",\n\"Toydarian\"],\n [{\n            'v': 38,\n            'f': \"38\",\n        },\n{\n            'v': 39,\n            'f': \"39\",\n        },\n\"Sebulba\",\n{\n            'v': 112.0,\n            'f': \"112.0\",\n        },\n{\n            'v': 40.0,\n            'f': \"40.0\",\n        },\n\"none\",\n\"grey, red\",\n\"orange\",\n{\n            'v': NaN,\n            'f': \"NaN\",\n        },\n\"male\",\n\"Malastare\",\n\"Dug\"],\n [{\n            'v': 39,\n            'f': \"39\",\n        },\n{\n            'v': 40,\n            'f': \"40\",\n        },\n\"Quarsh Panaka\",\n{\n            'v': 183.0,\n            'f': \"183.0\",\n        },\n{\n            'v': NaN,\n            'f': \"NaN\",\n        },\n\"black\",\n\"dark\",\n\"brown\",\n{\n            'v': 62.0,\n            'f': \"62.0\",\n        },\n\"male\",\n\"Naboo\",\nNaN],\n [{\n            'v': 40,\n            'f': \"40\",\n        },\n{\n            'v': 41,\n            'f': \"41\",\n        },\n\"Shmi Skywalker\",\n{\n            'v': 163.0,\n            'f': \"163.0\",\n        },\n{\n            'v': NaN,\n            'f': \"NaN\",\n        },\n\"black\",\n\"fair\",\n\"brown\",\n{\n            'v': 72.0,\n            'f': \"72.0\",\n        },\n\"female\",\n\"Tatooine\",\n\"Human\"],\n [{\n            'v': 41,\n            'f': \"41\",\n        },\n{\n            'v': 42,\n            'f': \"42\",\n        },\n\"Darth Maul\",\n{\n            'v': 175.0,\n            'f': \"175.0\",\n        },\n{\n            'v': 80.0,\n            'f': \"80.0\",\n        },\n\"none\",\n\"red\",\n\"yellow\",\n{\n            'v': 54.0,\n            'f': \"54.0\",\n        },\n\"male\",\n\"Dathomir\",\n\"Zabrak\"],\n [{\n            'v': 42,\n            'f': \"42\",\n        },\n{\n            'v': 43,\n            'f': \"43\",\n        },\n\"Bib Fortuna\",\n{\n            'v': 180.0,\n            'f': \"180.0\",\n        },\n{\n            'v': NaN,\n            'f': \"NaN\",\n        },\n\"none\",\n\"pale\",\n\"pink\",\n{\n            'v': NaN,\n            'f': \"NaN\",\n        },\n\"male\",\n\"Ryloth\",\n\"Twi'lek\"],\n [{\n            'v': 43,\n            'f': \"43\",\n        },\n{\n            'v': 44,\n            'f': \"44\",\n        },\n\"Ayla Secura\",\n{\n            'v': 178.0,\n            'f': \"178.0\",\n        },\n{\n            'v': 55.0,\n            'f': \"55.0\",\n        },\n\"none\",\n\"blue\",\n\"hazel\",\n{\n            'v': 48.0,\n            'f': \"48.0\",\n        },\n\"female\",\n\"Ryloth\",\n\"Twi'lek\"],\n [{\n            'v': 44,\n            'f': \"44\",\n        },\n{\n            'v': 45,\n            'f': \"45\",\n        },\n\"Dud Bolt\",\n{\n            'v': 94.0,\n            'f': \"94.0\",\n        },\n{\n            'v': 45.0,\n            'f': \"45.0\",\n        },\n\"none\",\n\"blue, grey\",\n\"yellow\",\n{\n            'v': NaN,\n            'f': \"NaN\",\n        },\n\"male\",\n\"Vulpter\",\n\"Vulptereen\"],\n [{\n            'v': 45,\n            'f': \"45\",\n        },\n{\n            'v': 46,\n            'f': \"46\",\n        },\n\"Gasgano\",\n{\n            'v': 122.0,\n            'f': \"122.0\",\n        },\n{\n            'v': NaN,\n            'f': \"NaN\",\n        },\n\"none\",\n\"white, blue\",\n\"black\",\n{\n            'v': NaN,\n            'f': \"NaN\",\n        },\n\"male\",\n\"Troiken\",\n\"Xexto\"],\n [{\n            'v': 46,\n            'f': \"46\",\n        },\n{\n            'v': 47,\n            'f': \"47\",\n        },\n\"Ben Quadinaros\",\n{\n            'v': 163.0,\n            'f': \"163.0\",\n        },\n{\n            'v': 65.0,\n            'f': \"65.0\",\n        },\n\"none\",\n\"grey, green, yellow\",\n\"orange\",\n{\n            'v': NaN,\n            'f': \"NaN\",\n        },\n\"male\",\n\"Tund\",\n\"Toong\"],\n [{\n            'v': 47,\n            'f': \"47\",\n        },\n{\n            'v': 48,\n            'f': \"48\",\n        },\n\"Mace Windu\",\n{\n            'v': 188.0,\n            'f': \"188.0\",\n        },\n{\n            'v': 84.0,\n            'f': \"84.0\",\n        },\n\"none\",\n\"dark\",\n\"brown\",\n{\n            'v': 72.0,\n            'f': \"72.0\",\n        },\n\"male\",\n\"Haruun Kal\",\n\"Human\"],\n [{\n            'v': 48,\n            'f': \"48\",\n        },\n{\n            'v': 49,\n            'f': \"49\",\n        },\n\"Ki-Adi-Mundi\",\n{\n            'v': 198.0,\n            'f': \"198.0\",\n        },\n{\n            'v': 82.0,\n            'f': \"82.0\",\n        },\n\"white\",\n\"pale\",\n\"yellow\",\n{\n            'v': 92.0,\n            'f': \"92.0\",\n        },\n\"male\",\n\"Cerea\",\n\"Cerean\"],\n [{\n            'v': 49,\n            'f': \"49\",\n        },\n{\n            'v': 50,\n            'f': \"50\",\n        },\n\"Kit Fisto\",\n{\n            'v': 196.0,\n            'f': \"196.0\",\n        },\n{\n            'v': 87.0,\n            'f': \"87.0\",\n        },\n\"none\",\n\"green\",\n\"black\",\n{\n            'v': NaN,\n            'f': \"NaN\",\n        },\n\"male\",\n\"Glee Anselm\",\n\"Nautolan\"],\n [{\n            'v': 50,\n            'f': \"50\",\n        },\n{\n            'v': 51,\n            'f': \"51\",\n        },\n\"Eeth Koth\",\n{\n            'v': 171.0,\n            'f': \"171.0\",\n        },\n{\n            'v': NaN,\n            'f': \"NaN\",\n        },\n\"black\",\n\"brown\",\n\"brown\",\n{\n            'v': NaN,\n            'f': \"NaN\",\n        },\n\"male\",\n\"Iridonia\",\n\"Zabrak\"],\n [{\n            'v': 51,\n            'f': \"51\",\n        },\n{\n            'v': 52,\n            'f': \"52\",\n        },\n\"Adi Gallia\",\n{\n            'v': 184.0,\n            'f': \"184.0\",\n        },\n{\n            'v': 50.0,\n            'f': \"50.0\",\n        },\n\"none\",\n\"dark\",\n\"blue\",\n{\n            'v': NaN,\n            'f': \"NaN\",\n        },\n\"female\",\n\"Coruscant\",\n\"Tholothian\"],\n [{\n            'v': 52,\n            'f': \"52\",\n        },\n{\n            'v': 53,\n            'f': \"53\",\n        },\n\"Saesee Tiin\",\n{\n            'v': 188.0,\n            'f': \"188.0\",\n        },\n{\n            'v': NaN,\n            'f': \"NaN\",\n        },\n\"none\",\n\"pale\",\n\"orange\",\n{\n            'v': NaN,\n            'f': \"NaN\",\n        },\n\"male\",\n\"Iktotch\",\n\"Iktotchi\"],\n [{\n            'v': 53,\n            'f': \"53\",\n        },\n{\n            'v': 54,\n            'f': \"54\",\n        },\n\"Yarael Poof\",\n{\n            'v': 264.0,\n            'f': \"264.0\",\n        },\n{\n            'v': NaN,\n            'f': \"NaN\",\n        },\n\"none\",\n\"white\",\n\"yellow\",\n{\n            'v': NaN,\n            'f': \"NaN\",\n        },\n\"male\",\n\"Quermia\",\n\"Quermian\"],\n [{\n            'v': 54,\n            'f': \"54\",\n        },\n{\n            'v': 55,\n            'f': \"55\",\n        },\n\"Plo Koon\",\n{\n            'v': 188.0,\n            'f': \"188.0\",\n        },\n{\n            'v': 80.0,\n            'f': \"80.0\",\n        },\n\"none\",\n\"orange\",\n\"black\",\n{\n            'v': 22.0,\n            'f': \"22.0\",\n        },\n\"male\",\n\"Dorin\",\n\"Kel Dor\"],\n [{\n            'v': 55,\n            'f': \"55\",\n        },\n{\n            'v': 56,\n            'f': \"56\",\n        },\n\"Mas Amedda\",\n{\n            'v': 196.0,\n            'f': \"196.0\",\n        },\n{\n            'v': NaN,\n            'f': \"NaN\",\n        },\n\"none\",\n\"blue\",\n\"blue\",\n{\n            'v': NaN,\n            'f': \"NaN\",\n        },\n\"male\",\n\"Champala\",\n\"Chagrian\"],\n [{\n            'v': 56,\n            'f': \"56\",\n        },\n{\n            'v': 57,\n            'f': \"57\",\n        },\n\"Gregar Typho\",\n{\n            'v': 185.0,\n            'f': \"185.0\",\n        },\n{\n            'v': 85.0,\n            'f': \"85.0\",\n        },\n\"black\",\n\"dark\",\n\"brown\",\n{\n            'v': NaN,\n            'f': \"NaN\",\n        },\n\"male\",\n\"Naboo\",\n\"Human\"],\n [{\n            'v': 57,\n            'f': \"57\",\n        },\n{\n            'v': 58,\n            'f': \"58\",\n        },\n\"Cord\\u00e9\",\n{\n            'v': 157.0,\n            'f': \"157.0\",\n        },\n{\n            'v': NaN,\n            'f': \"NaN\",\n        },\n\"brown\",\n\"light\",\n\"brown\",\n{\n            'v': NaN,\n            'f': \"NaN\",\n        },\n\"female\",\n\"Naboo\",\n\"Human\"],\n [{\n            'v': 58,\n            'f': \"58\",\n        },\n{\n            'v': 59,\n            'f': \"59\",\n        },\n\"Cliegg Lars\",\n{\n            'v': 183.0,\n            'f': \"183.0\",\n        },\n{\n            'v': NaN,\n            'f': \"NaN\",\n        },\n\"brown\",\n\"fair\",\n\"blue\",\n{\n            'v': 82.0,\n            'f': \"82.0\",\n        },\n\"male\",\n\"Tatooine\",\n\"Human\"],\n [{\n            'v': 59,\n            'f': \"59\",\n        },\n{\n            'v': 60,\n            'f': \"60\",\n        },\n\"Poggle the Lesser\",\n{\n            'v': 183.0,\n            'f': \"183.0\",\n        },\n{\n            'v': 80.0,\n            'f': \"80.0\",\n        },\n\"none\",\n\"green\",\n\"yellow\",\n{\n            'v': NaN,\n            'f': \"NaN\",\n        },\n\"male\",\n\"Geonosis\",\n\"Geonosian\"],\n [{\n            'v': 60,\n            'f': \"60\",\n        },\n{\n            'v': 61,\n            'f': \"61\",\n        },\n\"Luminara Unduli\",\n{\n            'v': 170.0,\n            'f': \"170.0\",\n        },\n{\n            'v': 56.2,\n            'f': \"56.2\",\n        },\n\"black\",\n\"yellow\",\n\"blue\",\n{\n            'v': 58.0,\n            'f': \"58.0\",\n        },\n\"female\",\n\"Mirial\",\n\"Mirialan\"],\n [{\n            'v': 61,\n            'f': \"61\",\n        },\n{\n            'v': 62,\n            'f': \"62\",\n        },\n\"Barriss Offee\",\n{\n            'v': 166.0,\n            'f': \"166.0\",\n        },\n{\n            'v': 50.0,\n            'f': \"50.0\",\n        },\n\"black\",\n\"yellow\",\n\"blue\",\n{\n            'v': 40.0,\n            'f': \"40.0\",\n        },\n\"female\",\n\"Mirial\",\n\"Mirialan\"],\n [{\n            'v': 62,\n            'f': \"62\",\n        },\n{\n            'v': 63,\n            'f': \"63\",\n        },\n\"Dorm\\u00e9\",\n{\n            'v': 165.0,\n            'f': \"165.0\",\n        },\n{\n            'v': NaN,\n            'f': \"NaN\",\n        },\n\"brown\",\n\"light\",\n\"brown\",\n{\n            'v': NaN,\n            'f': \"NaN\",\n        },\n\"female\",\n\"Naboo\",\n\"Human\"],\n [{\n            'v': 63,\n            'f': \"63\",\n        },\n{\n            'v': 64,\n            'f': \"64\",\n        },\n\"Dooku\",\n{\n            'v': 193.0,\n            'f': \"193.0\",\n        },\n{\n            'v': 80.0,\n            'f': \"80.0\",\n        },\n\"white\",\n\"fair\",\n\"brown\",\n{\n            'v': 102.0,\n            'f': \"102.0\",\n        },\n\"male\",\n\"Serenno\",\n\"Human\"],\n [{\n            'v': 64,\n            'f': \"64\",\n        },\n{\n            'v': 65,\n            'f': \"65\",\n        },\n\"Bail Prestor Organa\",\n{\n            'v': 191.0,\n            'f': \"191.0\",\n        },\n{\n            'v': NaN,\n            'f': \"NaN\",\n        },\n\"black\",\n\"tan\",\n\"brown\",\n{\n            'v': 67.0,\n            'f': \"67.0\",\n        },\n\"male\",\n\"Alderaan\",\n\"Human\"],\n [{\n            'v': 65,\n            'f': \"65\",\n        },\n{\n            'v': 66,\n            'f': \"66\",\n        },\n\"Jango Fett\",\n{\n            'v': 183.0,\n            'f': \"183.0\",\n        },\n{\n            'v': 79.0,\n            'f': \"79.0\",\n        },\n\"black\",\n\"tan\",\n\"brown\",\n{\n            'v': 66.0,\n            'f': \"66.0\",\n        },\n\"male\",\n\"Concord Dawn\",\n\"Human\"],\n [{\n            'v': 66,\n            'f': \"66\",\n        },\n{\n            'v': 67,\n            'f': \"67\",\n        },\n\"Zam Wesell\",\n{\n            'v': 168.0,\n            'f': \"168.0\",\n        },\n{\n            'v': 55.0,\n            'f': \"55.0\",\n        },\n\"blonde\",\n\"fair, green, yellow\",\n\"yellow\",\n{\n            'v': NaN,\n            'f': \"NaN\",\n        },\n\"female\",\n\"Zolan\",\n\"Clawdite\"],\n [{\n            'v': 67,\n            'f': \"67\",\n        },\n{\n            'v': 68,\n            'f': \"68\",\n        },\n\"Dexter Jettster\",\n{\n            'v': 198.0,\n            'f': \"198.0\",\n        },\n{\n            'v': 102.0,\n            'f': \"102.0\",\n        },\n\"none\",\n\"brown\",\n\"yellow\",\n{\n            'v': NaN,\n            'f': \"NaN\",\n        },\n\"male\",\n\"Ojom\",\n\"Besalisk\"],\n [{\n            'v': 68,\n            'f': \"68\",\n        },\n{\n            'v': 69,\n            'f': \"69\",\n        },\n\"Lama Su\",\n{\n            'v': 229.0,\n            'f': \"229.0\",\n        },\n{\n            'v': 88.0,\n            'f': \"88.0\",\n        },\n\"none\",\n\"grey\",\n\"black\",\n{\n            'v': NaN,\n            'f': \"NaN\",\n        },\n\"male\",\n\"Kamino\",\n\"Kaminoan\"],\n [{\n            'v': 69,\n            'f': \"69\",\n        },\n{\n            'v': 70,\n            'f': \"70\",\n        },\n\"Taun We\",\n{\n            'v': 213.0,\n            'f': \"213.0\",\n        },\n{\n            'v': NaN,\n            'f': \"NaN\",\n        },\n\"none\",\n\"grey\",\n\"black\",\n{\n            'v': NaN,\n            'f': \"NaN\",\n        },\n\"female\",\n\"Kamino\",\n\"Kaminoan\"],\n [{\n            'v': 70,\n            'f': \"70\",\n        },\n{\n            'v': 71,\n            'f': \"71\",\n        },\n\"Jocasta Nu\",\n{\n            'v': 167.0,\n            'f': \"167.0\",\n        },\n{\n            'v': NaN,\n            'f': \"NaN\",\n        },\n\"white\",\n\"fair\",\n\"blue\",\n{\n            'v': NaN,\n            'f': \"NaN\",\n        },\n\"female\",\n\"Coruscant\",\n\"Human\"],\n [{\n            'v': 71,\n            'f': \"71\",\n        },\n{\n            'v': 72,\n            'f': \"72\",\n        },\n\"Ratts Tyerell\",\n{\n            'v': 79.0,\n            'f': \"79.0\",\n        },\n{\n            'v': 15.0,\n            'f': \"15.0\",\n        },\n\"none\",\n\"grey, blue\",\n\"unknown\",\n{\n            'v': NaN,\n            'f': \"NaN\",\n        },\n\"male\",\n\"Aleen Minor\",\n\"Aleena\"],\n [{\n            'v': 72,\n            'f': \"72\",\n        },\n{\n            'v': 73,\n            'f': \"73\",\n        },\n\"R4-P17\",\n{\n            'v': 96.0,\n            'f': \"96.0\",\n        },\n{\n            'v': NaN,\n            'f': \"NaN\",\n        },\n\"none\",\n\"silver, red\",\n\"red, blue\",\n{\n            'v': NaN,\n            'f': \"NaN\",\n        },\n\"female\",\nNaN,\nNaN],\n [{\n            'v': 73,\n            'f': \"73\",\n        },\n{\n            'v': 74,\n            'f': \"74\",\n        },\n\"Wat Tambor\",\n{\n            'v': 193.0,\n            'f': \"193.0\",\n        },\n{\n            'v': 48.0,\n            'f': \"48.0\",\n        },\n\"none\",\n\"green, grey\",\n\"unknown\",\n{\n            'v': NaN,\n            'f': \"NaN\",\n        },\n\"male\",\n\"Skako\",\n\"Skakoan\"],\n [{\n            'v': 74,\n            'f': \"74\",\n        },\n{\n            'v': 75,\n            'f': \"75\",\n        },\n\"San Hill\",\n{\n            'v': 191.0,\n            'f': \"191.0\",\n        },\n{\n            'v': NaN,\n            'f': \"NaN\",\n        },\n\"none\",\n\"grey\",\n\"gold\",\n{\n            'v': NaN,\n            'f': \"NaN\",\n        },\n\"male\",\n\"Muunilinst\",\n\"Muun\"],\n [{\n            'v': 75,\n            'f': \"75\",\n        },\n{\n            'v': 76,\n            'f': \"76\",\n        },\n\"Shaak Ti\",\n{\n            'v': 178.0,\n            'f': \"178.0\",\n        },\n{\n            'v': 57.0,\n            'f': \"57.0\",\n        },\n\"none\",\n\"red, blue, white\",\n\"black\",\n{\n            'v': NaN,\n            'f': \"NaN\",\n        },\n\"female\",\n\"Shili\",\n\"Togruta\"],\n [{\n            'v': 76,\n            'f': \"76\",\n        },\n{\n            'v': 77,\n            'f': \"77\",\n        },\n\"Grievous\",\n{\n            'v': 216.0,\n            'f': \"216.0\",\n        },\n{\n            'v': 159.0,\n            'f': \"159.0\",\n        },\n\"none\",\n\"brown, white\",\n\"green, yellow\",\n{\n            'v': NaN,\n            'f': \"NaN\",\n        },\n\"male\",\n\"Kalee\",\n\"Kaleesh\"],\n [{\n            'v': 77,\n            'f': \"77\",\n        },\n{\n            'v': 78,\n            'f': \"78\",\n        },\n\"Tarfful\",\n{\n            'v': 234.0,\n            'f': \"234.0\",\n        },\n{\n            'v': 136.0,\n            'f': \"136.0\",\n        },\n\"brown\",\n\"brown\",\n\"blue\",\n{\n            'v': NaN,\n            'f': \"NaN\",\n        },\n\"male\",\n\"Kashyyyk\",\n\"Wookiee\"],\n [{\n            'v': 78,\n            'f': \"78\",\n        },\n{\n            'v': 79,\n            'f': \"79\",\n        },\n\"Raymus Antilles\",\n{\n            'v': 188.0,\n            'f': \"188.0\",\n        },\n{\n            'v': 79.0,\n            'f': \"79.0\",\n        },\n\"brown\",\n\"light\",\n\"brown\",\n{\n            'v': NaN,\n            'f': \"NaN\",\n        },\n\"male\",\n\"Alderaan\",\n\"Human\"],\n [{\n            'v': 79,\n            'f': \"79\",\n        },\n{\n            'v': 80,\n            'f': \"80\",\n        },\n\"Sly Moore\",\n{\n            'v': 178.0,\n            'f': \"178.0\",\n        },\n{\n            'v': 48.0,\n            'f': \"48.0\",\n        },\n\"none\",\n\"pale\",\n\"white\",\n{\n            'v': NaN,\n            'f': \"NaN\",\n        },\n\"female\",\n\"Umbara\",\nNaN],\n [{\n            'v': 80,\n            'f': \"80\",\n        },\n{\n            'v': 81,\n            'f': \"81\",\n        },\n\"Tion Medon\",\n{\n            'v': 206.0,\n            'f': \"206.0\",\n        },\n{\n            'v': 80.0,\n            'f': \"80.0\",\n        },\n\"none\",\n\"grey\",\n\"black\",\n{\n            'v': NaN,\n            'f': \"NaN\",\n        },\n\"male\",\n\"Utapau\",\n\"Pau'an\"],\n [{\n            'v': 81,\n            'f': \"81\",\n        },\n{\n            'v': 82,\n            'f': \"82\",\n        },\n\"Finn\",\n{\n            'v': NaN,\n            'f': \"NaN\",\n        },\n{\n            'v': NaN,\n            'f': \"NaN\",\n        },\n\"black\",\n\"dark\",\n\"dark\",\n{\n            'v': NaN,\n            'f': \"NaN\",\n        },\n\"male\",\nNaN,\n\"Human\"],\n [{\n            'v': 82,\n            'f': \"82\",\n        },\n{\n            'v': 83,\n            'f': \"83\",\n        },\n\"Rey\",\n{\n            'v': NaN,\n            'f': \"NaN\",\n        },\n{\n            'v': NaN,\n            'f': \"NaN\",\n        },\n\"brown\",\n\"light\",\n\"hazel\",\n{\n            'v': NaN,\n            'f': \"NaN\",\n        },\n\"female\",\nNaN,\n\"Human\"],\n [{\n            'v': 83,\n            'f': \"83\",\n        },\n{\n            'v': 84,\n            'f': \"84\",\n        },\n\"Poe Dameron\",\n{\n            'v': NaN,\n            'f': \"NaN\",\n        },\n{\n            'v': NaN,\n            'f': \"NaN\",\n        },\n\"brown\",\n\"light\",\n\"brown\",\n{\n            'v': NaN,\n            'f': \"NaN\",\n        },\n\"male\",\nNaN,\n\"Human\"],\n [{\n            'v': 84,\n            'f': \"84\",\n        },\n{\n            'v': 85,\n            'f': \"85\",\n        },\n\"BB8\",\n{\n            'v': NaN,\n            'f': \"NaN\",\n        },\n{\n            'v': NaN,\n            'f': \"NaN\",\n        },\n\"none\",\n\"none\",\n\"black\",\n{\n            'v': NaN,\n            'f': \"NaN\",\n        },\n\"none\",\nNaN,\n\"Droid\"],\n [{\n            'v': 85,\n            'f': \"85\",\n        },\n{\n            'v': 86,\n            'f': \"86\",\n        },\n\"Captain Phasma\",\n{\n            'v': NaN,\n            'f': \"NaN\",\n        },\n{\n            'v': NaN,\n            'f': \"NaN\",\n        },\n\"unknown\",\n\"unknown\",\n\"unknown\",\n{\n            'v': NaN,\n            'f': \"NaN\",\n        },\n\"female\",\nNaN,\nNaN],\n [{\n            'v': 86,\n            'f': \"86\",\n        },\n{\n            'v': 87,\n            'f': \"87\",\n        },\n\"Padm\\u00e9 Amidala\",\n{\n            'v': 165.0,\n            'f': \"165.0\",\n        },\n{\n            'v': 45.0,\n            'f': \"45.0\",\n        },\n\"brown\",\n\"light\",\n\"brown\",\n{\n            'v': 46.0,\n            'f': \"46.0\",\n        },\n\"female\",\n\"Naboo\",\n\"Human\"]],\n        columns: [[\"number\", \"index\"], [\"number\", \"Unnamed: 0\"], [\"string\", \"name\"], [\"number\", \"height\"], [\"number\", \"mass\"], [\"string\", \"hair_color\"], [\"string\", \"skin_color\"], [\"string\", \"eye_color\"], [\"number\", \"birth_year\"], [\"string\", \"gender\"], [\"string\", \"homeworld\"], [\"string\", \"species\"]],\n        columnOptions: [{\"width\": \"1px\", \"className\": \"index_column\"}],\n        rowsPerPage: 25,\n        helpUrl: \"https://colab.research.google.com/notebooks/data_table.ipynb\",\n        suppressOutputScrolling: true,\n        minimumWidth: undefined,\n      });\n    ",
            "text/plain": [
              "<google.colab.data_table.DataTable object>"
            ],
            "text/html": [
              "<div>\n",
              "<style scoped>\n",
              "    .dataframe tbody tr th:only-of-type {\n",
              "        vertical-align: middle;\n",
              "    }\n",
              "\n",
              "    .dataframe tbody tr th {\n",
              "        vertical-align: top;\n",
              "    }\n",
              "\n",
              "    .dataframe thead th {\n",
              "        text-align: right;\n",
              "    }\n",
              "</style>\n",
              "<table border=\"1\" class=\"dataframe\">\n",
              "  <thead>\n",
              "    <tr style=\"text-align: right;\">\n",
              "      <th></th>\n",
              "      <th>Unnamed: 0</th>\n",
              "      <th>name</th>\n",
              "      <th>height</th>\n",
              "      <th>mass</th>\n",
              "      <th>hair_color</th>\n",
              "      <th>skin_color</th>\n",
              "      <th>eye_color</th>\n",
              "      <th>birth_year</th>\n",
              "      <th>gender</th>\n",
              "      <th>homeworld</th>\n",
              "      <th>species</th>\n",
              "    </tr>\n",
              "  </thead>\n",
              "  <tbody>\n",
              "    <tr>\n",
              "      <th>0</th>\n",
              "      <td>1</td>\n",
              "      <td>Luke Skywalker</td>\n",
              "      <td>172.0</td>\n",
              "      <td>77.0</td>\n",
              "      <td>blond</td>\n",
              "      <td>fair</td>\n",
              "      <td>blue</td>\n",
              "      <td>19.0</td>\n",
              "      <td>male</td>\n",
              "      <td>Tatooine</td>\n",
              "      <td>Human</td>\n",
              "    </tr>\n",
              "    <tr>\n",
              "      <th>1</th>\n",
              "      <td>2</td>\n",
              "      <td>C-3PO</td>\n",
              "      <td>167.0</td>\n",
              "      <td>75.0</td>\n",
              "      <td>NaN</td>\n",
              "      <td>gold</td>\n",
              "      <td>yellow</td>\n",
              "      <td>112.0</td>\n",
              "      <td>NaN</td>\n",
              "      <td>Tatooine</td>\n",
              "      <td>Droid</td>\n",
              "    </tr>\n",
              "    <tr>\n",
              "      <th>2</th>\n",
              "      <td>3</td>\n",
              "      <td>R2-D2</td>\n",
              "      <td>96.0</td>\n",
              "      <td>32.0</td>\n",
              "      <td>NaN</td>\n",
              "      <td>white, blue</td>\n",
              "      <td>red</td>\n",
              "      <td>33.0</td>\n",
              "      <td>NaN</td>\n",
              "      <td>Naboo</td>\n",
              "      <td>Droid</td>\n",
              "    </tr>\n",
              "    <tr>\n",
              "      <th>3</th>\n",
              "      <td>4</td>\n",
              "      <td>Darth Vader</td>\n",
              "      <td>202.0</td>\n",
              "      <td>136.0</td>\n",
              "      <td>none</td>\n",
              "      <td>white</td>\n",
              "      <td>yellow</td>\n",
              "      <td>41.9</td>\n",
              "      <td>male</td>\n",
              "      <td>Tatooine</td>\n",
              "      <td>Human</td>\n",
              "    </tr>\n",
              "    <tr>\n",
              "      <th>4</th>\n",
              "      <td>5</td>\n",
              "      <td>Leia Organa</td>\n",
              "      <td>150.0</td>\n",
              "      <td>49.0</td>\n",
              "      <td>brown</td>\n",
              "      <td>light</td>\n",
              "      <td>brown</td>\n",
              "      <td>19.0</td>\n",
              "      <td>female</td>\n",
              "      <td>Alderaan</td>\n",
              "      <td>Human</td>\n",
              "    </tr>\n",
              "    <tr>\n",
              "      <th>...</th>\n",
              "      <td>...</td>\n",
              "      <td>...</td>\n",
              "      <td>...</td>\n",
              "      <td>...</td>\n",
              "      <td>...</td>\n",
              "      <td>...</td>\n",
              "      <td>...</td>\n",
              "      <td>...</td>\n",
              "      <td>...</td>\n",
              "      <td>...</td>\n",
              "      <td>...</td>\n",
              "    </tr>\n",
              "    <tr>\n",
              "      <th>82</th>\n",
              "      <td>83</td>\n",
              "      <td>Rey</td>\n",
              "      <td>NaN</td>\n",
              "      <td>NaN</td>\n",
              "      <td>brown</td>\n",
              "      <td>light</td>\n",
              "      <td>hazel</td>\n",
              "      <td>NaN</td>\n",
              "      <td>female</td>\n",
              "      <td>NaN</td>\n",
              "      <td>Human</td>\n",
              "    </tr>\n",
              "    <tr>\n",
              "      <th>83</th>\n",
              "      <td>84</td>\n",
              "      <td>Poe Dameron</td>\n",
              "      <td>NaN</td>\n",
              "      <td>NaN</td>\n",
              "      <td>brown</td>\n",
              "      <td>light</td>\n",
              "      <td>brown</td>\n",
              "      <td>NaN</td>\n",
              "      <td>male</td>\n",
              "      <td>NaN</td>\n",
              "      <td>Human</td>\n",
              "    </tr>\n",
              "    <tr>\n",
              "      <th>84</th>\n",
              "      <td>85</td>\n",
              "      <td>BB8</td>\n",
              "      <td>NaN</td>\n",
              "      <td>NaN</td>\n",
              "      <td>none</td>\n",
              "      <td>none</td>\n",
              "      <td>black</td>\n",
              "      <td>NaN</td>\n",
              "      <td>none</td>\n",
              "      <td>NaN</td>\n",
              "      <td>Droid</td>\n",
              "    </tr>\n",
              "    <tr>\n",
              "      <th>85</th>\n",
              "      <td>86</td>\n",
              "      <td>Captain Phasma</td>\n",
              "      <td>NaN</td>\n",
              "      <td>NaN</td>\n",
              "      <td>unknown</td>\n",
              "      <td>unknown</td>\n",
              "      <td>unknown</td>\n",
              "      <td>NaN</td>\n",
              "      <td>female</td>\n",
              "      <td>NaN</td>\n",
              "      <td>NaN</td>\n",
              "    </tr>\n",
              "    <tr>\n",
              "      <th>86</th>\n",
              "      <td>87</td>\n",
              "      <td>Padmé Amidala</td>\n",
              "      <td>165.0</td>\n",
              "      <td>45.0</td>\n",
              "      <td>brown</td>\n",
              "      <td>light</td>\n",
              "      <td>brown</td>\n",
              "      <td>46.0</td>\n",
              "      <td>female</td>\n",
              "      <td>Naboo</td>\n",
              "      <td>Human</td>\n",
              "    </tr>\n",
              "  </tbody>\n",
              "</table>\n",
              "<p>87 rows × 11 columns</p>\n",
              "</div>"
            ]
          },
          "metadata": {
            "tags": []
          },
          "execution_count": 31
        }
      ]
    },
    {
      "cell_type": "code",
      "metadata": {
        "id": "zCyLljbDkXku",
        "colab": {
          "base_uri": "https://localhost:8080/"
        },
        "outputId": "539eaddf-fc26-4142-8ff5-1ceee2fd14ba"
      },
      "source": [
        "# shape, devuelve una tupla: tipo de dato que no puede modificarse, \"is at it is\"\n",
        "d_star_wars.shape"
      ],
      "execution_count": null,
      "outputs": [
        {
          "output_type": "execute_result",
          "data": {
            "text/plain": [
              "(87, 11)"
            ]
          },
          "metadata": {
            "tags": []
          },
          "execution_count": 32
        }
      ]
    },
    {
      "cell_type": "code",
      "metadata": {
        "id": "tG8xSuarkZJc",
        "colab": {
          "base_uri": "https://localhost:8080/",
          "height": 143
        },
        "outputId": "56c1867c-6efc-46e1-ec23-432c38d44691"
      },
      "source": [
        "# head / tail\n",
        "d_star_wars.head(3)"
      ],
      "execution_count": null,
      "outputs": [
        {
          "output_type": "execute_result",
          "data": {
            "text/html": [
              "<div>\n",
              "<style scoped>\n",
              "    .dataframe tbody tr th:only-of-type {\n",
              "        vertical-align: middle;\n",
              "    }\n",
              "\n",
              "    .dataframe tbody tr th {\n",
              "        vertical-align: top;\n",
              "    }\n",
              "\n",
              "    .dataframe thead th {\n",
              "        text-align: right;\n",
              "    }\n",
              "</style>\n",
              "<table border=\"1\" class=\"dataframe\">\n",
              "  <thead>\n",
              "    <tr style=\"text-align: right;\">\n",
              "      <th></th>\n",
              "      <th>Unnamed: 0</th>\n",
              "      <th>name</th>\n",
              "      <th>height</th>\n",
              "      <th>mass</th>\n",
              "      <th>hair_color</th>\n",
              "      <th>skin_color</th>\n",
              "      <th>eye_color</th>\n",
              "      <th>birth_year</th>\n",
              "      <th>gender</th>\n",
              "      <th>homeworld</th>\n",
              "      <th>species</th>\n",
              "    </tr>\n",
              "  </thead>\n",
              "  <tbody>\n",
              "    <tr>\n",
              "      <th>0</th>\n",
              "      <td>1</td>\n",
              "      <td>Luke Skywalker</td>\n",
              "      <td>172.0</td>\n",
              "      <td>77.0</td>\n",
              "      <td>blond</td>\n",
              "      <td>fair</td>\n",
              "      <td>blue</td>\n",
              "      <td>19.0</td>\n",
              "      <td>male</td>\n",
              "      <td>Tatooine</td>\n",
              "      <td>Human</td>\n",
              "    </tr>\n",
              "    <tr>\n",
              "      <th>1</th>\n",
              "      <td>2</td>\n",
              "      <td>C-3PO</td>\n",
              "      <td>167.0</td>\n",
              "      <td>75.0</td>\n",
              "      <td>NaN</td>\n",
              "      <td>gold</td>\n",
              "      <td>yellow</td>\n",
              "      <td>112.0</td>\n",
              "      <td>NaN</td>\n",
              "      <td>Tatooine</td>\n",
              "      <td>Droid</td>\n",
              "    </tr>\n",
              "    <tr>\n",
              "      <th>2</th>\n",
              "      <td>3</td>\n",
              "      <td>R2-D2</td>\n",
              "      <td>96.0</td>\n",
              "      <td>32.0</td>\n",
              "      <td>NaN</td>\n",
              "      <td>white, blue</td>\n",
              "      <td>red</td>\n",
              "      <td>33.0</td>\n",
              "      <td>NaN</td>\n",
              "      <td>Naboo</td>\n",
              "      <td>Droid</td>\n",
              "    </tr>\n",
              "  </tbody>\n",
              "</table>\n",
              "</div>"
            ],
            "text/plain": [
              "   Unnamed: 0            name  height  ...  gender homeworld species\n",
              "0           1  Luke Skywalker   172.0  ...    male  Tatooine   Human\n",
              "1           2           C-3PO   167.0  ...     NaN  Tatooine   Droid\n",
              "2           3           R2-D2    96.0  ...     NaN     Naboo   Droid\n",
              "\n",
              "[3 rows x 11 columns]"
            ]
          },
          "metadata": {
            "tags": []
          },
          "execution_count": 33
        }
      ]
    },
    {
      "cell_type": "code",
      "metadata": {
        "id": "DyDHnl40kG7W",
        "colab": {
          "base_uri": "https://localhost:8080/"
        },
        "outputId": "3956e552-2b2d-457c-ad2d-f62c8e242bd8"
      },
      "source": [
        "# funpymodeling / instalar nuevas librerías\n",
        "!pip install funpymodeling"
      ],
      "execution_count": null,
      "outputs": [
        {
          "output_type": "stream",
          "text": [
            "Collecting funpymodeling\n",
            "  Downloading https://files.pythonhosted.org/packages/2c/ab/849bdc74b3323ef11a4c4af86be8c1ddc4ebc118cff4b8b2036fce8f0c77/funpymodeling-0.1.7-py3-none-any.whl\n",
            "Collecting seaborn<0.11.0,>=0.10.1\n",
            "\u001b[?25l  Downloading https://files.pythonhosted.org/packages/c7/e6/54aaaafd0b87f51dfba92ba73da94151aa3bc179e5fe88fc5dfb3038e860/seaborn-0.10.1-py3-none-any.whl (215kB)\n",
            "\u001b[K     |████████████████████████████████| 225kB 5.1MB/s \n",
            "\u001b[?25hRequirement already satisfied: numpy<2.0.0,>=1.18.5 in /usr/local/lib/python3.7/dist-packages (from funpymodeling) (1.19.5)\n",
            "Requirement already satisfied: pandas<2.0.0,>=1.0.5 in /usr/local/lib/python3.7/dist-packages (from funpymodeling) (1.1.5)\n",
            "Requirement already satisfied: matplotlib<4.0.0,>=3.2.2 in /usr/local/lib/python3.7/dist-packages (from funpymodeling) (3.2.2)\n",
            "Requirement already satisfied: sklearn<0.1,>=0.0 in /usr/local/lib/python3.7/dist-packages (from funpymodeling) (0.0)\n",
            "Requirement already satisfied: typing-extensions<4.0.0,>=3.7.4; python_version < \"3.8\" in /usr/local/lib/python3.7/dist-packages (from funpymodeling) (3.7.4.3)\n",
            "Requirement already satisfied: scipy>=1.0.1 in /usr/local/lib/python3.7/dist-packages (from seaborn<0.11.0,>=0.10.1->funpymodeling) (1.4.1)\n",
            "Requirement already satisfied: pytz>=2017.2 in /usr/local/lib/python3.7/dist-packages (from pandas<2.0.0,>=1.0.5->funpymodeling) (2018.9)\n",
            "Requirement already satisfied: python-dateutil>=2.7.3 in /usr/local/lib/python3.7/dist-packages (from pandas<2.0.0,>=1.0.5->funpymodeling) (2.8.1)\n",
            "Requirement already satisfied: kiwisolver>=1.0.1 in /usr/local/lib/python3.7/dist-packages (from matplotlib<4.0.0,>=3.2.2->funpymodeling) (1.3.1)\n",
            "Requirement already satisfied: pyparsing!=2.0.4,!=2.1.2,!=2.1.6,>=2.0.1 in /usr/local/lib/python3.7/dist-packages (from matplotlib<4.0.0,>=3.2.2->funpymodeling) (2.4.7)\n",
            "Requirement already satisfied: cycler>=0.10 in /usr/local/lib/python3.7/dist-packages (from matplotlib<4.0.0,>=3.2.2->funpymodeling) (0.10.0)\n",
            "Requirement already satisfied: scikit-learn in /usr/local/lib/python3.7/dist-packages (from sklearn<0.1,>=0.0->funpymodeling) (0.22.2.post1)\n",
            "Requirement already satisfied: six>=1.5 in /usr/local/lib/python3.7/dist-packages (from python-dateutil>=2.7.3->pandas<2.0.0,>=1.0.5->funpymodeling) (1.15.0)\n",
            "Requirement already satisfied: joblib>=0.11 in /usr/local/lib/python3.7/dist-packages (from scikit-learn->sklearn<0.1,>=0.0->funpymodeling) (1.0.1)\n",
            "Installing collected packages: seaborn, funpymodeling\n",
            "  Found existing installation: seaborn 0.11.1\n",
            "    Uninstalling seaborn-0.11.1:\n",
            "      Successfully uninstalled seaborn-0.11.1\n",
            "Successfully installed funpymodeling-0.1.7 seaborn-0.10.1\n"
          ],
          "name": "stdout"
        }
      ]
    },
    {
      "cell_type": "code",
      "metadata": {
        "id": "Pz5-ihpH90ro"
      },
      "source": [
        ""
      ],
      "execution_count": null,
      "outputs": []
    },
    {
      "cell_type": "markdown",
      "metadata": {
        "id": "eFME9bXa24Kl"
      },
      "source": [
        "*Cómo* usar funpymodeling: [youtube playlist](https://www.youtube.com/watch?v=4JOyB1UhGNY&list=PLqzBY6yE_SmGz3M51p8mxfUOm3FvMC2gr&index=1)\n",
        "\n",
        "<img src=\"https://repository-images.githubusercontent.com/286575297/527f4680-e897-11ea-9782-3e4449c12549\" width=\"350px\">\n",
        "\n"
      ]
    },
    {
      "cell_type": "code",
      "metadata": {
        "id": "aPVGC1mlkNbh",
        "colab": {
          "base_uri": "https://localhost:8080/"
        },
        "outputId": "be88fcfa-27f7-4915-b027-8a4ab7bcb477"
      },
      "source": [
        "# status\n",
        "from funpymodeling.exploratory import status"
      ],
      "execution_count": null,
      "outputs": [
        {
          "output_type": "stream",
          "text": [
            "/usr/local/lib/python3.7/dist-packages/statsmodels/tools/_testing.py:19: FutureWarning: pandas.util.testing is deprecated. Use the functions in the public API at pandas.testing instead.\n",
            "  import pandas.util.testing as tm\n"
          ],
          "name": "stderr"
        }
      ]
    },
    {
      "cell_type": "code",
      "metadata": {
        "id": "pnxFZzuVkUsT"
      },
      "source": [
        "status(d_star_wars)"
      ],
      "execution_count": null,
      "outputs": []
    },
    {
      "cell_type": "code",
      "metadata": {
        "id": "Q8OfKcNnGF1R"
      },
      "source": [
        "d_star_wars=pd.read_csv(filepath_or_buffer=\"/content/drive/MyDrive/Cursos/Intro Python/data/starwars.csv\", sep=',')\n",
        "d_star_wars"
      ],
      "execution_count": null,
      "outputs": []
    },
    {
      "cell_type": "markdown",
      "metadata": {
        "id": "tdcjW0HfH7tG"
      },
      "source": [
        "Nota: Si por algún motivo no pudieron conectarse con google drive, pueden leer archivos directamente de una url, para star wars descomenten la línea y usen:\n"
      ]
    },
    {
      "cell_type": "code",
      "metadata": {
        "id": "m2L-EnUAGF3r"
      },
      "source": [
        "d_star_wars=pd.read_csv(filepath_or_buffer=\"https://raw.githubusercontent.com/pablo14/datasets/main/star_wars/starwars.csv\", sep=',')"
      ],
      "execution_count": null,
      "outputs": []
    },
    {
      "cell_type": "code",
      "metadata": {
        "id": "eAvTq5aaPRJI"
      },
      "source": [
        "\n",
        "\n",
        "\n",
        "\n",
        "\n",
        "\n",
        "\n"
      ],
      "execution_count": null,
      "outputs": []
    },
    {
      "cell_type": "markdown",
      "metadata": {
        "id": "V9LlEu0BJTKa"
      },
      "source": [
        "## Nulos en pandas"
      ]
    },
    {
      "cell_type": "code",
      "metadata": {
        "id": "azFUKEPlXtPe"
      },
      "source": [
        "d_star_wars.head()"
      ],
      "execution_count": null,
      "outputs": []
    },
    {
      "cell_type": "code",
      "metadata": {
        "id": "9nKzETs7fAzI"
      },
      "source": [
        "# None ~ NaN"
      ],
      "execution_count": null,
      "outputs": []
    },
    {
      "cell_type": "code",
      "metadata": {
        "id": "epuuNwZwjbFr"
      },
      "source": [
        "status(d_star_wars)"
      ],
      "execution_count": null,
      "outputs": []
    },
    {
      "cell_type": "code",
      "metadata": {
        "id": "OofrhDxWJW6j"
      },
      "source": [
        "# obtener nulos de una columna\n",
        "d_star_wars['hair_color'].isna()\n",
        "\n",
        "# creamos un filtro para obtener los registros con valores nulos\n",
        "d_star_wars[d_star_wars['hair_color'].isna()]"
      ],
      "execution_count": null,
      "outputs": []
    },
    {
      "cell_type": "code",
      "metadata": {
        "id": "wuHRGrmyJW8l"
      },
      "source": [
        "# el origen de los NaN\n",
        "import numpy as np"
      ],
      "execution_count": null,
      "outputs": []
    },
    {
      "cell_type": "code",
      "metadata": {
        "id": "wUpYrMdbjb4a"
      },
      "source": [
        "a=pd.Series([1,2,3, np.NaN])"
      ],
      "execution_count": null,
      "outputs": []
    },
    {
      "cell_type": "code",
      "metadata": {
        "id": "eUC2KEOijo1R"
      },
      "source": [
        "b=pd.Series([1,2,3, None])"
      ],
      "execution_count": null,
      "outputs": []
    },
    {
      "cell_type": "code",
      "metadata": {
        "id": "nlPFUvbGhirh"
      },
      "source": [
        "a "
      ],
      "execution_count": null,
      "outputs": []
    },
    {
      "cell_type": "code",
      "metadata": {
        "id": "6wzerJ6IhtJk"
      },
      "source": [
        "b"
      ],
      "execution_count": null,
      "outputs": []
    },
    {
      "cell_type": "markdown",
      "metadata": {
        "id": "a15cA4cqv9kF"
      },
      "source": [
        "### Remplazo de nulos\n",
        "\n",
        "Variable categórica / object"
      ]
    },
    {
      "cell_type": "code",
      "metadata": {
        "id": "Xa7Vs_7txajt"
      },
      "source": [
        "d_star_wars"
      ],
      "execution_count": null,
      "outputs": []
    },
    {
      "cell_type": "code",
      "metadata": {
        "id": "J6fgUvzbh9dS"
      },
      "source": [
        "values={'homeworld': 'nulo_home', 'species': 'nulo_species'}\n",
        "\n",
        "d_star_wars.fillna(value=values)"
      ],
      "execution_count": null,
      "outputs": []
    },
    {
      "cell_type": "code",
      "metadata": {
        "id": "pL_3yaNVzcFo"
      },
      "source": [
        "# remplazo en el mismo data frame\n",
        "d_star_wars.fillna(value=values, inplace=True)"
      ],
      "execution_count": null,
      "outputs": []
    },
    {
      "cell_type": "code",
      "metadata": {
        "id": "nKJEayaPvnQp"
      },
      "source": [
        "d_star_wars"
      ],
      "execution_count": null,
      "outputs": []
    },
    {
      "cell_type": "markdown",
      "metadata": {
        "id": "yRu6OxUD2yzx"
      },
      "source": [
        "## Imputación de nulos para variables numéricas\n",
        "\n"
      ]
    },
    {
      "cell_type": "code",
      "metadata": {
        "id": "FfA5M1K4vnSt"
      },
      "source": [
        "# Obtención del promedio, y luego imputamos una columna\n",
        "d_star_wars['height'].mean()"
      ],
      "execution_count": null,
      "outputs": []
    },
    {
      "cell_type": "code",
      "metadata": {
        "id": "Nhc4JtzLAsCi"
      },
      "source": [
        "d_star_wars['height']=d_star_wars['height'].fillna(d_star_wars['height'].mean())\n",
        "\n",
        "d_star_wars"
      ],
      "execution_count": null,
      "outputs": []
    },
    {
      "cell_type": "code",
      "metadata": {
        "id": "KNz_BpqgAXqj"
      },
      "source": [
        "\n",
        "\n"
      ],
      "execution_count": null,
      "outputs": []
    },
    {
      "cell_type": "markdown",
      "metadata": {
        "id": "dd8Piqm_CJix"
      },
      "source": [
        "---\n",
        "\n",
        "## Profundizá en análisis exploratorio y gráficos\n",
        "\n",
        "Aprende mas nuestro curso gratuito y complementá lo visto hasta el momento.\n",
        "\n",
        "[Introducción a Estadística para Machine Learning con Python](https://escueladedatosvivos.ai/p/curso-gratuito-estadistica-para-machine-learning-con-python)\n",
        "\n",
        "También tenemos tutoriales en el [blog](https://blog.escueladedatosvivos.ai/) y el [canal de YouTube](https://www.youtube.com/c/Escueladedatosvivosai).\n",
        "\n",
        "<br>\n"
      ]
    },
    {
      "cell_type": "markdown",
      "metadata": {
        "id": "riuitse2vp-F"
      },
      "source": [
        "---\n",
        "\n",
        "## Ejercicios!\n",
        "\n",
        "Se asume que ya corrieron los ejercicios mostrados y exploraron un poco el ecosistema de google colab.\n",
        " \n",
        "👉 **Es super importante** que los hagan para fijar lo que aprendieron. No se frusten si estan 20 minutos para crear una lista, es al principio! \n",
        "\n",
        "<br> \n",
        "\n",
        "1) Crear dos listas de 4 valores, uno númerico y otro con string, llamado lista1 y lista2, con los siguientes valores:\n",
        "\n",
        "1,2,3,4,5\n",
        "\n",
        "a,b,c,d,e\n",
        "\n"
      ]
    },
    {
      "cell_type": "code",
      "metadata": {
        "id": "bVCiM4IW0GUB"
      },
      "source": [
        ""
      ],
      "execution_count": null,
      "outputs": []
    },
    {
      "cell_type": "markdown",
      "metadata": {
        "id": "HN2RIPRF0Gs4"
      },
      "source": [
        "2) Crear e imprimir en pantalla un pandas data frame llamado `d_test` basandose en las listas del punto 1). Nombres de las columnas: `columna_A` y `columna_B`"
      ]
    },
    {
      "cell_type": "code",
      "metadata": {
        "id": "xnnT8EBXv17s"
      },
      "source": [
        ""
      ],
      "execution_count": null,
      "outputs": []
    },
    {
      "cell_type": "markdown",
      "metadata": {
        "id": "1trFt4Mp0Knl"
      },
      "source": [
        "3) Cargar los datos de heart disease con pandas en una variable llamada `d_hd`. Imprimir en pantalla.\n",
        "\n",
        "URL: `https://raw.githubusercontent.com/pablo14/datasets/main/heart_disease/heart_disease.csv`\n",
        "\n"
      ]
    },
    {
      "cell_type": "code",
      "metadata": {
        "id": "N5eTxyFw0PE2"
      },
      "source": [
        "import pandas as pd\n",
        "\n"
      ],
      "execution_count": null,
      "outputs": []
    },
    {
      "cell_type": "code",
      "metadata": {
        "id": "vk9DHfAr1hLe"
      },
      "source": [
        "# 3.1) Imprimir la variable `age` y `has_heart_disease` al mismo tiempo. No usar loc ni iloc.\n"
      ],
      "execution_count": null,
      "outputs": []
    },
    {
      "cell_type": "code",
      "metadata": {
        "id": "QRwViZ2I3FpP"
      },
      "source": [
        "# 3.2) Explorar los datos con DataTable de google colab, usar filtros y ordenar las columnas haciendo click en ellas\n"
      ],
      "execution_count": null,
      "outputs": []
    },
    {
      "cell_type": "code",
      "metadata": {
        "id": "zpDIuaM_1URJ"
      },
      "source": [
        "# 3.3) Imprimir los primeros 3 registros con head, y los últomos 3 con tail\n",
        "\n",
        "# head\n"
      ],
      "execution_count": null,
      "outputs": []
    },
    {
      "cell_type": "code",
      "metadata": {
        "id": "_Yqaww6b5z71"
      },
      "source": [
        "# tail\n"
      ],
      "execution_count": null,
      "outputs": []
    },
    {
      "cell_type": "code",
      "metadata": {
        "id": "TPdrF7xeERO2"
      },
      "source": [
        "# 3.4) Acceder con loc a la columna has_heart_disease, y mostrar todos los registros\n"
      ],
      "execution_count": null,
      "outputs": []
    },
    {
      "cell_type": "code",
      "metadata": {
        "id": "Uls4dpJiEgWw"
      },
      "source": [
        "# 3.5) Idem 3.4) peor mostrando los primeros 3 registros. Usar slice, no head.\n"
      ],
      "execution_count": null,
      "outputs": []
    },
    {
      "cell_type": "code",
      "metadata": {
        "id": "yfVqQU1sFBix"
      },
      "source": [
        "# 3.6) Usar iloc para obtener las primeras 3 columnas, y 5 registros\n"
      ],
      "execution_count": null,
      "outputs": []
    },
    {
      "cell_type": "code",
      "metadata": {
        "id": "X_eLAFAJDdNl"
      },
      "source": [
        ""
      ],
      "execution_count": null,
      "outputs": []
    },
    {
      "cell_type": "markdown",
      "metadata": {
        "id": "NFkwzOcw5_1G"
      },
      "source": [
        "4) Trabajando con nulos\n"
      ]
    },
    {
      "cell_type": "code",
      "metadata": {
        "id": "BAiXp62yDtP6"
      },
      "source": [
        "# 4.1) Instalar funpymodeling\n",
        "!pip install funpymodeling"
      ],
      "execution_count": null,
      "outputs": []
    },
    {
      "cell_type": "code",
      "metadata": {
        "id": "1_ZCEks96CUO"
      },
      "source": [
        "# 4.2) Cargar función status\n",
        "from funpymodeling.exploratory import status"
      ],
      "execution_count": null,
      "outputs": []
    },
    {
      "cell_type": "code",
      "metadata": {
        "id": "i5PAmADVD4PT"
      },
      "source": [
        "# 4.3) ¿Qué variables tienen nulos?  (usar status) \n"
      ],
      "execution_count": null,
      "outputs": []
    },
    {
      "cell_type": "code",
      "metadata": {
        "id": "V2NRaF1cD4k9"
      },
      "source": [
        "# 4.4) Devolver un data frame con todos los registros que tienen NaN en la variable \"thal\".\n"
      ],
      "execution_count": null,
      "outputs": []
    },
    {
      "cell_type": "code",
      "metadata": {
        "id": "Ih_J_WmdD4uj"
      },
      "source": [
        "# 4.5) Remplazar los nulos que aparecen en la variable \"thal por 999. *No* guardarlo en el dataframe original. Usar fillna.\n"
      ],
      "execution_count": null,
      "outputs": []
    },
    {
      "cell_type": "code",
      "metadata": {
        "id": "fh4BgTd0Ifmp"
      },
      "source": [
        "# 4.6) Remplazar los nulos que aparecen en la variable \"thal\" por 999 (como antes), \n",
        "# y también remplazar los nulos de \"num_vessels_flour\" por el promedio de la variable. \n",
        "# Guardar el resultado en un dataframe nuevo llamado \"d_hd2\".\n",
        "\n"
      ],
      "execution_count": null,
      "outputs": []
    },
    {
      "cell_type": "code",
      "metadata": {
        "id": "YMTb6CaYD4zo"
      },
      "source": [
        "# 4.7) Chequear resultado con status\n"
      ],
      "execution_count": null,
      "outputs": []
    },
    {
      "cell_type": "code",
      "metadata": {
        "id": "Vr5lU2sWDriL"
      },
      "source": [
        "# 4.8) Mini ejercicio para googlear:\n",
        "# Eliminar todas los registros con nulos usando `dropna` de pandas\n"
      ],
      "execution_count": null,
      "outputs": []
    },
    {
      "cell_type": "markdown",
      "metadata": {
        "id": "1P9gOJGpvpf1"
      },
      "source": [
        "\n",
        "Fin de los ejercicios, felicitaciones!\n",
        "\n",
        "<br>\n",
        "\n",
        "---\n",
        "\n",
        "\n",
        "\n",
        "\n",
        "\n",
        "**Bonus track**: Todo Python en una foto, [fuente](https://github.com/coodict/python3-in-one-pic).\n",
        "\n",
        "<img src=\"https://raw.githubusercontent.com/coodict/python3-in-one-pic/master/py3%20in%20one%20pic.png\" width=\"300px\">\n"
      ]
    }
  ]
}